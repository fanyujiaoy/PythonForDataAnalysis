{
 "cells": [
  {
   "cell_type": "code",
   "execution_count": 1,
   "metadata": {},
   "outputs": [],
   "source": [
    "from datetime import datetime"
   ]
  },
  {
   "cell_type": "code",
   "execution_count": 2,
   "metadata": {},
   "outputs": [],
   "source": [
    "now = datetime.now()"
   ]
  },
  {
   "cell_type": "code",
   "execution_count": 3,
   "metadata": {},
   "outputs": [
    {
     "data": {
      "text/plain": [
       "datetime.datetime(2019, 7, 12, 14, 42, 53, 785126)"
      ]
     },
     "execution_count": 3,
     "metadata": {},
     "output_type": "execute_result"
    }
   ],
   "source": [
    "now"
   ]
  },
  {
   "cell_type": "code",
   "execution_count": 4,
   "metadata": {},
   "outputs": [
    {
     "data": {
      "text/plain": [
       "(2019, 7, 12)"
      ]
     },
     "execution_count": 4,
     "metadata": {},
     "output_type": "execute_result"
    }
   ],
   "source": [
    "now.year, now.month, now.day"
   ]
  },
  {
   "cell_type": "code",
   "execution_count": 5,
   "metadata": {},
   "outputs": [],
   "source": [
    "delta = datetime(2011, 1, 7) - datetime(2008, 6, 24, 8, 15)"
   ]
  },
  {
   "cell_type": "code",
   "execution_count": 6,
   "metadata": {},
   "outputs": [
    {
     "data": {
      "text/plain": [
       "datetime.timedelta(days=926, seconds=56700)"
      ]
     },
     "execution_count": 6,
     "metadata": {},
     "output_type": "execute_result"
    }
   ],
   "source": [
    "delta"
   ]
  },
  {
   "cell_type": "code",
   "execution_count": 7,
   "metadata": {},
   "outputs": [
    {
     "data": {
      "text/plain": [
       "926"
      ]
     },
     "execution_count": 7,
     "metadata": {},
     "output_type": "execute_result"
    }
   ],
   "source": [
    "delta.days"
   ]
  },
  {
   "cell_type": "code",
   "execution_count": 8,
   "metadata": {},
   "outputs": [
    {
     "data": {
      "text/plain": [
       "56700"
      ]
     },
     "execution_count": 8,
     "metadata": {},
     "output_type": "execute_result"
    }
   ],
   "source": [
    "delta.seconds"
   ]
  },
  {
   "cell_type": "code",
   "execution_count": 9,
   "metadata": {},
   "outputs": [],
   "source": [
    "from datetime import timedelta"
   ]
  },
  {
   "cell_type": "code",
   "execution_count": 10,
   "metadata": {},
   "outputs": [],
   "source": [
    "start = datetime(2011, 1, 7)"
   ]
  },
  {
   "cell_type": "code",
   "execution_count": 11,
   "metadata": {},
   "outputs": [
    {
     "data": {
      "text/plain": [
       "datetime.datetime(2011, 1, 19, 0, 0)"
      ]
     },
     "execution_count": 11,
     "metadata": {},
     "output_type": "execute_result"
    }
   ],
   "source": [
    "start + timedelta(12)"
   ]
  },
  {
   "cell_type": "code",
   "execution_count": 12,
   "metadata": {},
   "outputs": [
    {
     "data": {
      "text/plain": [
       "datetime.datetime(2010, 12, 14, 0, 0)"
      ]
     },
     "execution_count": 12,
     "metadata": {},
     "output_type": "execute_result"
    }
   ],
   "source": [
    "start - 2 * timedelta(12)"
   ]
  },
  {
   "cell_type": "code",
   "execution_count": 13,
   "metadata": {},
   "outputs": [],
   "source": [
    "stamp = datetime(2011, 1, 3)"
   ]
  },
  {
   "cell_type": "code",
   "execution_count": 14,
   "metadata": {},
   "outputs": [
    {
     "data": {
      "text/plain": [
       "'2011-01-03 00:00:00'"
      ]
     },
     "execution_count": 14,
     "metadata": {},
     "output_type": "execute_result"
    }
   ],
   "source": [
    "str(stamp)"
   ]
  },
  {
   "cell_type": "code",
   "execution_count": 15,
   "metadata": {},
   "outputs": [
    {
     "data": {
      "text/plain": [
       "'2011-01-03'"
      ]
     },
     "execution_count": 15,
     "metadata": {},
     "output_type": "execute_result"
    }
   ],
   "source": [
    "stamp.strftime('%Y-%m-%d')"
   ]
  },
  {
   "cell_type": "code",
   "execution_count": 16,
   "metadata": {},
   "outputs": [],
   "source": [
    "value = '2011-01-03'"
   ]
  },
  {
   "cell_type": "code",
   "execution_count": 17,
   "metadata": {},
   "outputs": [
    {
     "data": {
      "text/plain": [
       "datetime.datetime(2011, 1, 3, 0, 0)"
      ]
     },
     "execution_count": 17,
     "metadata": {},
     "output_type": "execute_result"
    }
   ],
   "source": [
    "datetime.strptime(value, '%Y-%m-%d')"
   ]
  },
  {
   "cell_type": "code",
   "execution_count": 18,
   "metadata": {},
   "outputs": [],
   "source": [
    "datestrs = ['7/6/2011', '8/6/2011']"
   ]
  },
  {
   "cell_type": "code",
   "execution_count": 19,
   "metadata": {},
   "outputs": [
    {
     "data": {
      "text/plain": [
       "[datetime.datetime(2011, 7, 6, 0, 0), datetime.datetime(2011, 8, 6, 0, 0)]"
      ]
     },
     "execution_count": 19,
     "metadata": {},
     "output_type": "execute_result"
    }
   ],
   "source": [
    "[datetime.strptime(x, '%m/%d/%Y') for x in datestrs]"
   ]
  },
  {
   "cell_type": "code",
   "execution_count": 20,
   "metadata": {},
   "outputs": [],
   "source": [
    "from dateutil.parser import parse"
   ]
  },
  {
   "cell_type": "code",
   "execution_count": 21,
   "metadata": {},
   "outputs": [
    {
     "data": {
      "text/plain": [
       "datetime.datetime(2011, 1, 3, 0, 0)"
      ]
     },
     "execution_count": 21,
     "metadata": {},
     "output_type": "execute_result"
    }
   ],
   "source": [
    "parse('2011-01-03')"
   ]
  },
  {
   "cell_type": "code",
   "execution_count": 22,
   "metadata": {},
   "outputs": [
    {
     "data": {
      "text/plain": [
       "datetime.datetime(1997, 1, 31, 22, 45)"
      ]
     },
     "execution_count": 22,
     "metadata": {},
     "output_type": "execute_result"
    }
   ],
   "source": [
    "parse('Jan 31, 1997 10:45 PM')"
   ]
  },
  {
   "cell_type": "code",
   "execution_count": 23,
   "metadata": {},
   "outputs": [
    {
     "data": {
      "text/plain": [
       "datetime.datetime(2011, 12, 6, 0, 0)"
      ]
     },
     "execution_count": 23,
     "metadata": {},
     "output_type": "execute_result"
    }
   ],
   "source": [
    "parse('6/12/2011', dayfirst=True)"
   ]
  },
  {
   "cell_type": "code",
   "execution_count": 24,
   "metadata": {},
   "outputs": [],
   "source": [
    "datestrs = ['2011-07-06 12:00:00', '2011-08-06 00:00:00']"
   ]
  },
  {
   "cell_type": "code",
   "execution_count": 26,
   "metadata": {},
   "outputs": [],
   "source": [
    "import pandas as pd"
   ]
  },
  {
   "cell_type": "code",
   "execution_count": 27,
   "metadata": {},
   "outputs": [
    {
     "data": {
      "text/plain": [
       "DatetimeIndex(['2011-07-06 12:00:00', '2011-08-06 00:00:00'], dtype='datetime64[ns]', freq=None)"
      ]
     },
     "execution_count": 27,
     "metadata": {},
     "output_type": "execute_result"
    }
   ],
   "source": [
    "pd.to_datetime(datestrs)"
   ]
  },
  {
   "cell_type": "code",
   "execution_count": 28,
   "metadata": {},
   "outputs": [],
   "source": [
    "idx = pd.to_datetime(datestrs + [None])"
   ]
  },
  {
   "cell_type": "code",
   "execution_count": 29,
   "metadata": {},
   "outputs": [
    {
     "data": {
      "text/plain": [
       "DatetimeIndex(['2011-07-06 12:00:00', '2011-08-06 00:00:00', 'NaT'], dtype='datetime64[ns]', freq=None)"
      ]
     },
     "execution_count": 29,
     "metadata": {},
     "output_type": "execute_result"
    }
   ],
   "source": [
    "idx"
   ]
  },
  {
   "cell_type": "code",
   "execution_count": 30,
   "metadata": {},
   "outputs": [
    {
     "data": {
      "text/plain": [
       "NaT"
      ]
     },
     "execution_count": 30,
     "metadata": {},
     "output_type": "execute_result"
    }
   ],
   "source": [
    "idx[2]"
   ]
  },
  {
   "cell_type": "code",
   "execution_count": 31,
   "metadata": {},
   "outputs": [
    {
     "data": {
      "text/plain": [
       "array([False, False,  True])"
      ]
     },
     "execution_count": 31,
     "metadata": {},
     "output_type": "execute_result"
    }
   ],
   "source": [
    "pd.isnull(idx)"
   ]
  },
  {
   "cell_type": "code",
   "execution_count": 32,
   "metadata": {},
   "outputs": [],
   "source": [
    "dates = [datetime(2011, 1, 2), datetime(2011, 1, 5), \n",
    "         datetime(2011, 1, 7), datetime(2011, 1, 8), \n",
    "         datetime(2011, 1, 10), datetime(2011, 1, 12)]"
   ]
  },
  {
   "cell_type": "code",
   "execution_count": 34,
   "metadata": {},
   "outputs": [
    {
     "data": {
      "text/plain": [
       "[datetime.datetime(2011, 1, 2, 0, 0),\n",
       " datetime.datetime(2011, 1, 5, 0, 0),\n",
       " datetime.datetime(2011, 1, 7, 0, 0),\n",
       " datetime.datetime(2011, 1, 8, 0, 0),\n",
       " datetime.datetime(2011, 1, 10, 0, 0),\n",
       " datetime.datetime(2011, 1, 12, 0, 0)]"
      ]
     },
     "execution_count": 34,
     "metadata": {},
     "output_type": "execute_result"
    }
   ],
   "source": [
    "dates"
   ]
  },
  {
   "cell_type": "code",
   "execution_count": 36,
   "metadata": {},
   "outputs": [],
   "source": [
    "import numpy as np"
   ]
  },
  {
   "cell_type": "code",
   "execution_count": 37,
   "metadata": {},
   "outputs": [],
   "source": [
    "ts = pd.Series(np.random.randn(6), index=dates)"
   ]
  },
  {
   "cell_type": "code",
   "execution_count": 38,
   "metadata": {},
   "outputs": [
    {
     "data": {
      "text/plain": [
       "2011-01-02   -0.367759\n",
       "2011-01-05   -1.514850\n",
       "2011-01-07   -0.507665\n",
       "2011-01-08    1.512319\n",
       "2011-01-10   -1.072758\n",
       "2011-01-12   -0.267251\n",
       "dtype: float64"
      ]
     },
     "execution_count": 38,
     "metadata": {},
     "output_type": "execute_result"
    }
   ],
   "source": [
    "ts"
   ]
  },
  {
   "cell_type": "code",
   "execution_count": 39,
   "metadata": {},
   "outputs": [
    {
     "data": {
      "text/plain": [
       "DatetimeIndex(['2011-01-02', '2011-01-05', '2011-01-07', '2011-01-08',\n",
       "               '2011-01-10', '2011-01-12'],\n",
       "              dtype='datetime64[ns]', freq=None)"
      ]
     },
     "execution_count": 39,
     "metadata": {},
     "output_type": "execute_result"
    }
   ],
   "source": [
    "ts.index"
   ]
  },
  {
   "cell_type": "code",
   "execution_count": 46,
   "metadata": {},
   "outputs": [
    {
     "data": {
      "text/plain": [
       "2011-01-02   -0.367759\n",
       "2011-01-07   -0.507665\n",
       "2011-01-10   -1.072758\n",
       "dtype: float64"
      ]
     },
     "execution_count": 46,
     "metadata": {},
     "output_type": "execute_result"
    }
   ],
   "source": [
    "# ts[：：2]会将ts中每隔一个的元素选择出。\n",
    "ts[::2]"
   ]
  },
  {
   "cell_type": "code",
   "execution_count": 47,
   "metadata": {},
   "outputs": [
    {
     "data": {
      "text/plain": [
       "2011-01-02   -0.735518\n",
       "2011-01-05         NaN\n",
       "2011-01-07   -1.015331\n",
       "2011-01-08         NaN\n",
       "2011-01-10   -2.145516\n",
       "2011-01-12         NaN\n",
       "dtype: float64"
      ]
     },
     "execution_count": 47,
     "metadata": {},
     "output_type": "execute_result"
    }
   ],
   "source": [
    "ts + ts[::2]"
   ]
  },
  {
   "cell_type": "code",
   "execution_count": 48,
   "metadata": {},
   "outputs": [
    {
     "data": {
      "text/plain": [
       "dtype('<M8[ns]')"
      ]
     },
     "execution_count": 48,
     "metadata": {},
     "output_type": "execute_result"
    }
   ],
   "source": [
    "# pandas使用NumPy的datetime64数据类型在纳秒级的分辨率下存储时间戳\n",
    "ts.index.dtype"
   ]
  },
  {
   "cell_type": "code",
   "execution_count": 49,
   "metadata": {},
   "outputs": [],
   "source": [
    "stamp = ts.index[0]"
   ]
  },
  {
   "cell_type": "code",
   "execution_count": 50,
   "metadata": {},
   "outputs": [
    {
     "data": {
      "text/plain": [
       "Timestamp('2011-01-02 00:00:00')"
      ]
     },
     "execution_count": 50,
     "metadata": {},
     "output_type": "execute_result"
    }
   ],
   "source": [
    "stamp"
   ]
  },
  {
   "cell_type": "code",
   "execution_count": 51,
   "metadata": {},
   "outputs": [],
   "source": [
    "stamp = ts.index[2]"
   ]
  },
  {
   "cell_type": "code",
   "execution_count": 52,
   "metadata": {},
   "outputs": [
    {
     "data": {
      "text/plain": [
       "Timestamp('2011-01-07 00:00:00')"
      ]
     },
     "execution_count": 52,
     "metadata": {},
     "output_type": "execute_result"
    }
   ],
   "source": [
    "stamp"
   ]
  },
  {
   "cell_type": "code",
   "execution_count": 53,
   "metadata": {},
   "outputs": [
    {
     "data": {
      "text/plain": [
       "-0.5076654593594173"
      ]
     },
     "execution_count": 53,
     "metadata": {},
     "output_type": "execute_result"
    }
   ],
   "source": [
    "ts[stamp]"
   ]
  },
  {
   "cell_type": "code",
   "execution_count": 54,
   "metadata": {},
   "outputs": [
    {
     "data": {
      "text/plain": [
       "-1.072758243351804"
      ]
     },
     "execution_count": 54,
     "metadata": {},
     "output_type": "execute_result"
    }
   ],
   "source": [
    "# 能解释为日期的字符串\n",
    "ts['1/10/2011']"
   ]
  },
  {
   "cell_type": "code",
   "execution_count": 55,
   "metadata": {},
   "outputs": [
    {
     "data": {
      "text/plain": [
       "-1.072758243351804"
      ]
     },
     "execution_count": 55,
     "metadata": {},
     "output_type": "execute_result"
    }
   ],
   "source": [
    "ts['20110110']"
   ]
  },
  {
   "cell_type": "code",
   "execution_count": 56,
   "metadata": {},
   "outputs": [],
   "source": [
    "longer_ts = pd.Series(np.random.randn(1000), index=pd.date_range('1/1/2000', periods=1000))"
   ]
  },
  {
   "cell_type": "code",
   "execution_count": 58,
   "metadata": {},
   "outputs": [
    {
     "data": {
      "text/plain": [
       "2000-01-01    0.224717\n",
       "2000-01-02    0.655724\n",
       "2000-01-03   -0.272598\n",
       "2000-01-04    0.314830\n",
       "2000-01-05    1.253003\n",
       "Freq: D, dtype: float64"
      ]
     },
     "execution_count": 58,
     "metadata": {},
     "output_type": "execute_result"
    }
   ],
   "source": [
    "longer_ts.head()"
   ]
  },
  {
   "cell_type": "code",
   "execution_count": 59,
   "metadata": {},
   "outputs": [
    {
     "data": {
      "text/plain": [
       "2001-01-01    0.389531\n",
       "2001-01-02    0.089922\n",
       "2001-01-03    1.006656\n",
       "2001-01-04   -0.269274\n",
       "2001-01-05    1.310277\n",
       "2001-01-06    0.967301\n",
       "2001-01-07    1.691964\n",
       "2001-01-08   -2.078794\n",
       "2001-01-09   -1.123150\n",
       "2001-01-10   -1.077231\n",
       "2001-01-11   -2.084287\n",
       "2001-01-12   -0.506977\n",
       "2001-01-13    1.396222\n",
       "2001-01-14   -0.914577\n",
       "2001-01-15    0.838877\n",
       "2001-01-16    0.240636\n",
       "2001-01-17   -0.760876\n",
       "2001-01-18    1.910582\n",
       "2001-01-19    0.954716\n",
       "2001-01-20   -0.827932\n",
       "2001-01-21    0.842752\n",
       "2001-01-22   -1.083275\n",
       "2001-01-23   -0.205893\n",
       "2001-01-24    1.327843\n",
       "2001-01-25    1.044062\n",
       "2001-01-26   -0.013377\n",
       "2001-01-27    0.029704\n",
       "2001-01-28   -0.495130\n",
       "2001-01-29   -0.421323\n",
       "2001-01-30   -0.824981\n",
       "                ...   \n",
       "2001-12-02    0.700040\n",
       "2001-12-03   -1.486890\n",
       "2001-12-04    0.259746\n",
       "2001-12-05    0.335723\n",
       "2001-12-06   -1.252018\n",
       "2001-12-07    1.574203\n",
       "2001-12-08   -2.287216\n",
       "2001-12-09   -1.952658\n",
       "2001-12-10   -1.261720\n",
       "2001-12-11    0.237557\n",
       "2001-12-12    0.930838\n",
       "2001-12-13    0.768035\n",
       "2001-12-14    3.057846\n",
       "2001-12-15   -1.541926\n",
       "2001-12-16   -1.600150\n",
       "2001-12-17    0.009973\n",
       "2001-12-18   -0.732310\n",
       "2001-12-19   -0.631921\n",
       "2001-12-20    0.307915\n",
       "2001-12-21    0.031050\n",
       "2001-12-22    1.564344\n",
       "2001-12-23   -0.523787\n",
       "2001-12-24    1.807012\n",
       "2001-12-25   -0.980590\n",
       "2001-12-26    0.368932\n",
       "2001-12-27   -0.264325\n",
       "2001-12-28    0.630507\n",
       "2001-12-29   -0.619316\n",
       "2001-12-30   -0.368956\n",
       "2001-12-31   -0.765873\n",
       "Freq: D, Length: 365, dtype: float64"
      ]
     },
     "execution_count": 59,
     "metadata": {},
     "output_type": "execute_result"
    }
   ],
   "source": [
    "longer_ts['2001']"
   ]
  },
  {
   "cell_type": "code",
   "execution_count": 60,
   "metadata": {},
   "outputs": [
    {
     "data": {
      "text/plain": [
       "2001-05-01   -0.160683\n",
       "2001-05-02    0.643801\n",
       "2001-05-03   -0.952824\n",
       "2001-05-04   -0.080149\n",
       "2001-05-05   -1.025484\n",
       "2001-05-06    1.333447\n",
       "2001-05-07    0.829010\n",
       "2001-05-08   -0.964008\n",
       "2001-05-09    0.332585\n",
       "2001-05-10   -1.427311\n",
       "2001-05-11    0.188546\n",
       "2001-05-12    0.243527\n",
       "2001-05-13   -0.592697\n",
       "2001-05-14   -0.947380\n",
       "2001-05-15   -1.027491\n",
       "2001-05-16   -0.439089\n",
       "2001-05-17    0.674519\n",
       "2001-05-18    0.731731\n",
       "2001-05-19    1.431101\n",
       "2001-05-20    0.852000\n",
       "2001-05-21   -1.360134\n",
       "2001-05-22   -0.674406\n",
       "2001-05-23    0.229387\n",
       "2001-05-24    0.940427\n",
       "2001-05-25   -1.021744\n",
       "2001-05-26   -1.435187\n",
       "2001-05-27   -0.778156\n",
       "2001-05-28   -0.593870\n",
       "2001-05-29    0.259904\n",
       "2001-05-30   -0.812291\n",
       "2001-05-31   -0.601065\n",
       "Freq: D, dtype: float64"
      ]
     },
     "execution_count": 60,
     "metadata": {},
     "output_type": "execute_result"
    }
   ],
   "source": [
    "longer_ts['2001-05']"
   ]
  },
  {
   "cell_type": "code",
   "execution_count": 61,
   "metadata": {},
   "outputs": [
    {
     "data": {
      "text/plain": [
       "2011-01-07   -0.507665\n",
       "2011-01-08    1.512319\n",
       "2011-01-10   -1.072758\n",
       "2011-01-12   -0.267251\n",
       "dtype: float64"
      ]
     },
     "execution_count": 61,
     "metadata": {},
     "output_type": "execute_result"
    }
   ],
   "source": [
    "ts[datetime(2011, 1, 7):]"
   ]
  },
  {
   "cell_type": "code",
   "execution_count": 62,
   "metadata": {},
   "outputs": [
    {
     "data": {
      "text/plain": [
       "2011-01-02   -0.367759\n",
       "2011-01-05   -1.514850\n",
       "2011-01-07   -0.507665\n",
       "2011-01-08    1.512319\n",
       "2011-01-10   -1.072758\n",
       "2011-01-12   -0.267251\n",
       "dtype: float64"
      ]
     },
     "execution_count": 62,
     "metadata": {},
     "output_type": "execute_result"
    }
   ],
   "source": [
    "ts"
   ]
  },
  {
   "cell_type": "code",
   "execution_count": 63,
   "metadata": {},
   "outputs": [
    {
     "data": {
      "text/plain": [
       "2011-01-07   -0.507665\n",
       "2011-01-08    1.512319\n",
       "2011-01-10   -1.072758\n",
       "dtype: float64"
      ]
     },
     "execution_count": 63,
     "metadata": {},
     "output_type": "execute_result"
    }
   ],
   "source": [
    "ts['1/6/2011':'1/11/2011']"
   ]
  },
  {
   "cell_type": "code",
   "execution_count": 64,
   "metadata": {},
   "outputs": [
    {
     "data": {
      "text/plain": [
       "2011-01-02   -0.367759\n",
       "2011-01-05   -1.514850\n",
       "2011-01-07   -0.507665\n",
       "2011-01-08    1.512319\n",
       "dtype: float64"
      ]
     },
     "execution_count": 64,
     "metadata": {},
     "output_type": "execute_result"
    }
   ],
   "source": [
    "ts.truncate(after='1/9/2011')"
   ]
  },
  {
   "cell_type": "code",
   "execution_count": 65,
   "metadata": {},
   "outputs": [],
   "source": [
    "dates = pd.date_range('1/1/2000', periods=100, freq='W-WED')"
   ]
  },
  {
   "cell_type": "code",
   "execution_count": 66,
   "metadata": {},
   "outputs": [
    {
     "data": {
      "text/plain": [
       "DatetimeIndex(['2000-01-05', '2000-01-12', '2000-01-19', '2000-01-26',\n",
       "               '2000-02-02', '2000-02-09', '2000-02-16', '2000-02-23',\n",
       "               '2000-03-01', '2000-03-08', '2000-03-15', '2000-03-22',\n",
       "               '2000-03-29', '2000-04-05', '2000-04-12', '2000-04-19',\n",
       "               '2000-04-26', '2000-05-03', '2000-05-10', '2000-05-17',\n",
       "               '2000-05-24', '2000-05-31', '2000-06-07', '2000-06-14',\n",
       "               '2000-06-21', '2000-06-28', '2000-07-05', '2000-07-12',\n",
       "               '2000-07-19', '2000-07-26', '2000-08-02', '2000-08-09',\n",
       "               '2000-08-16', '2000-08-23', '2000-08-30', '2000-09-06',\n",
       "               '2000-09-13', '2000-09-20', '2000-09-27', '2000-10-04',\n",
       "               '2000-10-11', '2000-10-18', '2000-10-25', '2000-11-01',\n",
       "               '2000-11-08', '2000-11-15', '2000-11-22', '2000-11-29',\n",
       "               '2000-12-06', '2000-12-13', '2000-12-20', '2000-12-27',\n",
       "               '2001-01-03', '2001-01-10', '2001-01-17', '2001-01-24',\n",
       "               '2001-01-31', '2001-02-07', '2001-02-14', '2001-02-21',\n",
       "               '2001-02-28', '2001-03-07', '2001-03-14', '2001-03-21',\n",
       "               '2001-03-28', '2001-04-04', '2001-04-11', '2001-04-18',\n",
       "               '2001-04-25', '2001-05-02', '2001-05-09', '2001-05-16',\n",
       "               '2001-05-23', '2001-05-30', '2001-06-06', '2001-06-13',\n",
       "               '2001-06-20', '2001-06-27', '2001-07-04', '2001-07-11',\n",
       "               '2001-07-18', '2001-07-25', '2001-08-01', '2001-08-08',\n",
       "               '2001-08-15', '2001-08-22', '2001-08-29', '2001-09-05',\n",
       "               '2001-09-12', '2001-09-19', '2001-09-26', '2001-10-03',\n",
       "               '2001-10-10', '2001-10-17', '2001-10-24', '2001-10-31',\n",
       "               '2001-11-07', '2001-11-14', '2001-11-21', '2001-11-28'],\n",
       "              dtype='datetime64[ns]', freq='W-WED')"
      ]
     },
     "execution_count": 66,
     "metadata": {},
     "output_type": "execute_result"
    }
   ],
   "source": [
    "dates"
   ]
  },
  {
   "cell_type": "code",
   "execution_count": 71,
   "metadata": {},
   "outputs": [],
   "source": [
    "long_df = pd.DataFrame(np.random.randn(100, 4), index=dates, \n",
    "                      columns=['Colorado', 'Texas','New York', 'Ohio'])"
   ]
  },
  {
   "cell_type": "code",
   "execution_count": 72,
   "metadata": {},
   "outputs": [
    {
     "data": {
      "text/html": [
       "<div>\n",
       "<style scoped>\n",
       "    .dataframe tbody tr th:only-of-type {\n",
       "        vertical-align: middle;\n",
       "    }\n",
       "\n",
       "    .dataframe tbody tr th {\n",
       "        vertical-align: top;\n",
       "    }\n",
       "\n",
       "    .dataframe thead th {\n",
       "        text-align: right;\n",
       "    }\n",
       "</style>\n",
       "<table border=\"1\" class=\"dataframe\">\n",
       "  <thead>\n",
       "    <tr style=\"text-align: right;\">\n",
       "      <th></th>\n",
       "      <th>Colorado</th>\n",
       "      <th>Texas</th>\n",
       "      <th>New York</th>\n",
       "      <th>Ohio</th>\n",
       "    </tr>\n",
       "  </thead>\n",
       "  <tbody>\n",
       "    <tr>\n",
       "      <th>2000-01-05</th>\n",
       "      <td>0.575220</td>\n",
       "      <td>0.160262</td>\n",
       "      <td>-0.163858</td>\n",
       "      <td>2.426503</td>\n",
       "    </tr>\n",
       "    <tr>\n",
       "      <th>2000-01-12</th>\n",
       "      <td>1.126328</td>\n",
       "      <td>-0.525028</td>\n",
       "      <td>-0.747458</td>\n",
       "      <td>-1.015883</td>\n",
       "    </tr>\n",
       "    <tr>\n",
       "      <th>2000-01-19</th>\n",
       "      <td>-0.858282</td>\n",
       "      <td>-0.833030</td>\n",
       "      <td>0.682663</td>\n",
       "      <td>-1.078567</td>\n",
       "    </tr>\n",
       "    <tr>\n",
       "      <th>2000-01-26</th>\n",
       "      <td>-0.210240</td>\n",
       "      <td>0.299224</td>\n",
       "      <td>0.693840</td>\n",
       "      <td>-0.725964</td>\n",
       "    </tr>\n",
       "    <tr>\n",
       "      <th>2000-02-02</th>\n",
       "      <td>0.928659</td>\n",
       "      <td>0.949872</td>\n",
       "      <td>0.050186</td>\n",
       "      <td>0.104908</td>\n",
       "    </tr>\n",
       "    <tr>\n",
       "      <th>2000-02-09</th>\n",
       "      <td>1.314647</td>\n",
       "      <td>1.387879</td>\n",
       "      <td>-0.133960</td>\n",
       "      <td>-1.839990</td>\n",
       "    </tr>\n",
       "    <tr>\n",
       "      <th>2000-02-16</th>\n",
       "      <td>-0.917710</td>\n",
       "      <td>1.219405</td>\n",
       "      <td>0.263243</td>\n",
       "      <td>-0.666409</td>\n",
       "    </tr>\n",
       "    <tr>\n",
       "      <th>2000-02-23</th>\n",
       "      <td>0.057109</td>\n",
       "      <td>1.551708</td>\n",
       "      <td>-0.429943</td>\n",
       "      <td>-0.177168</td>\n",
       "    </tr>\n",
       "    <tr>\n",
       "      <th>2000-03-01</th>\n",
       "      <td>-0.676859</td>\n",
       "      <td>-0.700697</td>\n",
       "      <td>-0.321694</td>\n",
       "      <td>0.192958</td>\n",
       "    </tr>\n",
       "    <tr>\n",
       "      <th>2000-03-08</th>\n",
       "      <td>-1.560954</td>\n",
       "      <td>-1.441028</td>\n",
       "      <td>-0.148599</td>\n",
       "      <td>0.357674</td>\n",
       "    </tr>\n",
       "  </tbody>\n",
       "</table>\n",
       "</div>"
      ],
      "text/plain": [
       "            Colorado     Texas  New York      Ohio\n",
       "2000-01-05  0.575220  0.160262 -0.163858  2.426503\n",
       "2000-01-12  1.126328 -0.525028 -0.747458 -1.015883\n",
       "2000-01-19 -0.858282 -0.833030  0.682663 -1.078567\n",
       "2000-01-26 -0.210240  0.299224  0.693840 -0.725964\n",
       "2000-02-02  0.928659  0.949872  0.050186  0.104908\n",
       "2000-02-09  1.314647  1.387879 -0.133960 -1.839990\n",
       "2000-02-16 -0.917710  1.219405  0.263243 -0.666409\n",
       "2000-02-23  0.057109  1.551708 -0.429943 -0.177168\n",
       "2000-03-01 -0.676859 -0.700697 -0.321694  0.192958\n",
       "2000-03-08 -1.560954 -1.441028 -0.148599  0.357674"
      ]
     },
     "execution_count": 72,
     "metadata": {},
     "output_type": "execute_result"
    }
   ],
   "source": [
    "long_df.head(10)"
   ]
  },
  {
   "cell_type": "code",
   "execution_count": 73,
   "metadata": {},
   "outputs": [
    {
     "data": {
      "text/html": [
       "<div>\n",
       "<style scoped>\n",
       "    .dataframe tbody tr th:only-of-type {\n",
       "        vertical-align: middle;\n",
       "    }\n",
       "\n",
       "    .dataframe tbody tr th {\n",
       "        vertical-align: top;\n",
       "    }\n",
       "\n",
       "    .dataframe thead th {\n",
       "        text-align: right;\n",
       "    }\n",
       "</style>\n",
       "<table border=\"1\" class=\"dataframe\">\n",
       "  <thead>\n",
       "    <tr style=\"text-align: right;\">\n",
       "      <th></th>\n",
       "      <th>Colorado</th>\n",
       "      <th>Texas</th>\n",
       "      <th>New York</th>\n",
       "      <th>Ohio</th>\n",
       "    </tr>\n",
       "  </thead>\n",
       "  <tbody>\n",
       "    <tr>\n",
       "      <th>2001-05-02</th>\n",
       "      <td>2.445044</td>\n",
       "      <td>-0.131747</td>\n",
       "      <td>-1.560517</td>\n",
       "      <td>0.403919</td>\n",
       "    </tr>\n",
       "    <tr>\n",
       "      <th>2001-05-09</th>\n",
       "      <td>-0.790080</td>\n",
       "      <td>-0.312449</td>\n",
       "      <td>-1.827394</td>\n",
       "      <td>0.279599</td>\n",
       "    </tr>\n",
       "    <tr>\n",
       "      <th>2001-05-16</th>\n",
       "      <td>1.793762</td>\n",
       "      <td>1.339870</td>\n",
       "      <td>-1.113874</td>\n",
       "      <td>-1.829852</td>\n",
       "    </tr>\n",
       "    <tr>\n",
       "      <th>2001-05-23</th>\n",
       "      <td>-0.992707</td>\n",
       "      <td>0.900110</td>\n",
       "      <td>0.287584</td>\n",
       "      <td>-1.130343</td>\n",
       "    </tr>\n",
       "    <tr>\n",
       "      <th>2001-05-30</th>\n",
       "      <td>-0.111837</td>\n",
       "      <td>-1.700581</td>\n",
       "      <td>-1.696604</td>\n",
       "      <td>-0.804233</td>\n",
       "    </tr>\n",
       "  </tbody>\n",
       "</table>\n",
       "</div>"
      ],
      "text/plain": [
       "            Colorado     Texas  New York      Ohio\n",
       "2001-05-02  2.445044 -0.131747 -1.560517  0.403919\n",
       "2001-05-09 -0.790080 -0.312449 -1.827394  0.279599\n",
       "2001-05-16  1.793762  1.339870 -1.113874 -1.829852\n",
       "2001-05-23 -0.992707  0.900110  0.287584 -1.130343\n",
       "2001-05-30 -0.111837 -1.700581 -1.696604 -0.804233"
      ]
     },
     "execution_count": 73,
     "metadata": {},
     "output_type": "execute_result"
    }
   ],
   "source": [
    "long_df.loc['5-2001']"
   ]
  },
  {
   "cell_type": "code",
   "execution_count": 74,
   "metadata": {},
   "outputs": [],
   "source": [
    "dates = pd.DatetimeIndex(['1/1/2000', '1/2/2000', '1/2/2000', '1/2/2000', '1/3/2000'])"
   ]
  },
  {
   "cell_type": "code",
   "execution_count": 75,
   "metadata": {},
   "outputs": [
    {
     "data": {
      "text/plain": [
       "DatetimeIndex(['2000-01-01', '2000-01-02', '2000-01-02', '2000-01-02',\n",
       "               '2000-01-03'],\n",
       "              dtype='datetime64[ns]', freq=None)"
      ]
     },
     "execution_count": 75,
     "metadata": {},
     "output_type": "execute_result"
    }
   ],
   "source": [
    "dates"
   ]
  },
  {
   "cell_type": "code",
   "execution_count": 76,
   "metadata": {},
   "outputs": [],
   "source": [
    "dup_ts = pd.Series(np.arange(5), index=dates)"
   ]
  },
  {
   "cell_type": "code",
   "execution_count": 77,
   "metadata": {},
   "outputs": [
    {
     "data": {
      "text/plain": [
       "2000-01-01    0\n",
       "2000-01-02    1\n",
       "2000-01-02    2\n",
       "2000-01-02    3\n",
       "2000-01-03    4\n",
       "dtype: int32"
      ]
     },
     "execution_count": 77,
     "metadata": {},
     "output_type": "execute_result"
    }
   ],
   "source": [
    "dup_ts"
   ]
  },
  {
   "cell_type": "code",
   "execution_count": 78,
   "metadata": {},
   "outputs": [
    {
     "data": {
      "text/plain": [
       "False"
      ]
     },
     "execution_count": 78,
     "metadata": {},
     "output_type": "execute_result"
    }
   ],
   "source": [
    "dup_ts.index.is_unique"
   ]
  },
  {
   "cell_type": "code",
   "execution_count": 79,
   "metadata": {},
   "outputs": [
    {
     "data": {
      "text/plain": [
       "4"
      ]
     },
     "execution_count": 79,
     "metadata": {},
     "output_type": "execute_result"
    }
   ],
   "source": [
    "dup_ts['1/3/2000']  # 不重复"
   ]
  },
  {
   "cell_type": "code",
   "execution_count": 80,
   "metadata": {},
   "outputs": [
    {
     "data": {
      "text/plain": [
       "2000-01-02    1\n",
       "2000-01-02    2\n",
       "2000-01-02    3\n",
       "dtype: int32"
      ]
     },
     "execution_count": 80,
     "metadata": {},
     "output_type": "execute_result"
    }
   ],
   "source": [
    "dup_ts['1/2/2000']  # 重复"
   ]
  },
  {
   "cell_type": "code",
   "execution_count": 81,
   "metadata": {},
   "outputs": [],
   "source": [
    "grouped = dup_ts.groupby(level=0)"
   ]
  },
  {
   "cell_type": "code",
   "execution_count": 82,
   "metadata": {},
   "outputs": [
    {
     "data": {
      "text/plain": [
       "2000-01-01    0\n",
       "2000-01-02    2\n",
       "2000-01-03    4\n",
       "dtype: int32"
      ]
     },
     "execution_count": 82,
     "metadata": {},
     "output_type": "execute_result"
    }
   ],
   "source": [
    "grouped.mean()"
   ]
  },
  {
   "cell_type": "code",
   "execution_count": 83,
   "metadata": {},
   "outputs": [
    {
     "data": {
      "text/plain": [
       "2000-01-01    1\n",
       "2000-01-02    3\n",
       "2000-01-03    1\n",
       "dtype: int64"
      ]
     },
     "execution_count": 83,
     "metadata": {},
     "output_type": "execute_result"
    }
   ],
   "source": [
    "grouped.count()"
   ]
  },
  {
   "cell_type": "code",
   "execution_count": 84,
   "metadata": {},
   "outputs": [
    {
     "data": {
      "text/plain": [
       "2011-01-02   -0.367759\n",
       "2011-01-05   -1.514850\n",
       "2011-01-07   -0.507665\n",
       "2011-01-08    1.512319\n",
       "2011-01-10   -1.072758\n",
       "2011-01-12   -0.267251\n",
       "dtype: float64"
      ]
     },
     "execution_count": 84,
     "metadata": {},
     "output_type": "execute_result"
    }
   ],
   "source": [
    "ts"
   ]
  },
  {
   "cell_type": "code",
   "execution_count": 85,
   "metadata": {},
   "outputs": [],
   "source": [
    "resampler = ts.resample('D')"
   ]
  },
  {
   "cell_type": "code",
   "execution_count": 86,
   "metadata": {},
   "outputs": [
    {
     "data": {
      "text/plain": [
       "DatetimeIndexResampler [freq=<Day>, axis=0, closed=left, label=left, convention=start, base=0]"
      ]
     },
     "execution_count": 86,
     "metadata": {},
     "output_type": "execute_result"
    }
   ],
   "source": [
    "resampler"
   ]
  },
  {
   "cell_type": "code",
   "execution_count": 87,
   "metadata": {},
   "outputs": [],
   "source": [
    "index = pd.date_range('2012-04-01', '2012-06-01')"
   ]
  },
  {
   "cell_type": "code",
   "execution_count": 88,
   "metadata": {},
   "outputs": [
    {
     "data": {
      "text/plain": [
       "DatetimeIndex(['2012-04-01', '2012-04-02', '2012-04-03', '2012-04-04',\n",
       "               '2012-04-05', '2012-04-06', '2012-04-07', '2012-04-08',\n",
       "               '2012-04-09', '2012-04-10', '2012-04-11', '2012-04-12',\n",
       "               '2012-04-13', '2012-04-14', '2012-04-15', '2012-04-16',\n",
       "               '2012-04-17', '2012-04-18', '2012-04-19', '2012-04-20',\n",
       "               '2012-04-21', '2012-04-22', '2012-04-23', '2012-04-24',\n",
       "               '2012-04-25', '2012-04-26', '2012-04-27', '2012-04-28',\n",
       "               '2012-04-29', '2012-04-30', '2012-05-01', '2012-05-02',\n",
       "               '2012-05-03', '2012-05-04', '2012-05-05', '2012-05-06',\n",
       "               '2012-05-07', '2012-05-08', '2012-05-09', '2012-05-10',\n",
       "               '2012-05-11', '2012-05-12', '2012-05-13', '2012-05-14',\n",
       "               '2012-05-15', '2012-05-16', '2012-05-17', '2012-05-18',\n",
       "               '2012-05-19', '2012-05-20', '2012-05-21', '2012-05-22',\n",
       "               '2012-05-23', '2012-05-24', '2012-05-25', '2012-05-26',\n",
       "               '2012-05-27', '2012-05-28', '2012-05-29', '2012-05-30',\n",
       "               '2012-05-31', '2012-06-01'],\n",
       "              dtype='datetime64[ns]', freq='D')"
      ]
     },
     "execution_count": 88,
     "metadata": {},
     "output_type": "execute_result"
    }
   ],
   "source": [
    "index"
   ]
  },
  {
   "cell_type": "code",
   "execution_count": 89,
   "metadata": {},
   "outputs": [
    {
     "data": {
      "text/plain": [
       "DatetimeIndex(['2012-04-01', '2012-04-02', '2012-04-03', '2012-04-04',\n",
       "               '2012-04-05', '2012-04-06', '2012-04-07', '2012-04-08',\n",
       "               '2012-04-09', '2012-04-10', '2012-04-11', '2012-04-12',\n",
       "               '2012-04-13', '2012-04-14', '2012-04-15', '2012-04-16',\n",
       "               '2012-04-17', '2012-04-18', '2012-04-19', '2012-04-20'],\n",
       "              dtype='datetime64[ns]', freq='D')"
      ]
     },
     "execution_count": 89,
     "metadata": {},
     "output_type": "execute_result"
    }
   ],
   "source": [
    "pd.date_range(start='2012-04-01', periods=20)"
   ]
  },
  {
   "cell_type": "code",
   "execution_count": 90,
   "metadata": {},
   "outputs": [
    {
     "data": {
      "text/plain": [
       "DatetimeIndex(['2012-05-13', '2012-05-14', '2012-05-15', '2012-05-16',\n",
       "               '2012-05-17', '2012-05-18', '2012-05-19', '2012-05-20',\n",
       "               '2012-05-21', '2012-05-22', '2012-05-23', '2012-05-24',\n",
       "               '2012-05-25', '2012-05-26', '2012-05-27', '2012-05-28',\n",
       "               '2012-05-29', '2012-05-30', '2012-05-31', '2012-06-01'],\n",
       "              dtype='datetime64[ns]', freq='D')"
      ]
     },
     "execution_count": 90,
     "metadata": {},
     "output_type": "execute_result"
    }
   ],
   "source": [
    "pd.date_range(end='2012-06-01', periods=20)"
   ]
  },
  {
   "cell_type": "code",
   "execution_count": 91,
   "metadata": {},
   "outputs": [
    {
     "data": {
      "text/plain": [
       "DatetimeIndex(['2000-01-31', '2000-02-29', '2000-03-31', '2000-04-28',\n",
       "               '2000-05-31', '2000-06-30', '2000-07-31', '2000-08-31',\n",
       "               '2000-09-29', '2000-10-31', '2000-11-30'],\n",
       "              dtype='datetime64[ns]', freq='BM')"
      ]
     },
     "execution_count": 91,
     "metadata": {},
     "output_type": "execute_result"
    }
   ],
   "source": [
    "# 每月最后业务日期的时间索引\n",
    "pd.date_range('2000-01-01', '2000-12-01', freq='BM')"
   ]
  },
  {
   "cell_type": "code",
   "execution_count": 92,
   "metadata": {},
   "outputs": [
    {
     "data": {
      "text/plain": [
       "DatetimeIndex(['2012-05-02 12:56:31', '2012-05-03 12:56:31',\n",
       "               '2012-05-04 12:56:31', '2012-05-05 12:56:31',\n",
       "               '2012-05-06 12:56:31'],\n",
       "              dtype='datetime64[ns]', freq='D')"
      ]
     },
     "execution_count": 92,
     "metadata": {},
     "output_type": "execute_result"
    }
   ],
   "source": [
    "pd.date_range('2012-05-02 12:56:31', periods=5)"
   ]
  },
  {
   "cell_type": "code",
   "execution_count": 93,
   "metadata": {},
   "outputs": [],
   "source": [
    "from pandas.tseries.offsets import Hour, Minute"
   ]
  },
  {
   "cell_type": "code",
   "execution_count": 94,
   "metadata": {},
   "outputs": [],
   "source": [
    "hour = Hour()"
   ]
  },
  {
   "cell_type": "code",
   "execution_count": 95,
   "metadata": {},
   "outputs": [
    {
     "data": {
      "text/plain": [
       "<Hour>"
      ]
     },
     "execution_count": 95,
     "metadata": {},
     "output_type": "execute_result"
    }
   ],
   "source": [
    "hour"
   ]
  },
  {
   "cell_type": "code",
   "execution_count": 96,
   "metadata": {},
   "outputs": [],
   "source": [
    "four_hours = Hour(4)"
   ]
  },
  {
   "cell_type": "code",
   "execution_count": 97,
   "metadata": {},
   "outputs": [
    {
     "data": {
      "text/plain": [
       "<4 * Hours>"
      ]
     },
     "execution_count": 97,
     "metadata": {},
     "output_type": "execute_result"
    }
   ],
   "source": [
    "four_hours"
   ]
  },
  {
   "cell_type": "code",
   "execution_count": 98,
   "metadata": {},
   "outputs": [
    {
     "data": {
      "text/plain": [
       "DatetimeIndex(['2000-01-01 00:00:00', '2000-01-01 04:00:00',\n",
       "               '2000-01-01 08:00:00', '2000-01-01 12:00:00',\n",
       "               '2000-01-01 16:00:00', '2000-01-01 20:00:00',\n",
       "               '2000-01-02 00:00:00', '2000-01-02 04:00:00',\n",
       "               '2000-01-02 08:00:00', '2000-01-02 12:00:00',\n",
       "               '2000-01-02 16:00:00', '2000-01-02 20:00:00',\n",
       "               '2000-01-03 00:00:00', '2000-01-03 04:00:00',\n",
       "               '2000-01-03 08:00:00', '2000-01-03 12:00:00',\n",
       "               '2000-01-03 16:00:00', '2000-01-03 20:00:00'],\n",
       "              dtype='datetime64[ns]', freq='4H')"
      ]
     },
     "execution_count": 98,
     "metadata": {},
     "output_type": "execute_result"
    }
   ],
   "source": [
    "pd.date_range('2000-01-01', '2000-01-03 23:59', freq='4h')"
   ]
  },
  {
   "cell_type": "code",
   "execution_count": 99,
   "metadata": {},
   "outputs": [
    {
     "data": {
      "text/plain": [
       "<150 * Minutes>"
      ]
     },
     "execution_count": 99,
     "metadata": {},
     "output_type": "execute_result"
    }
   ],
   "source": [
    "Hour(2) + Minute(30)"
   ]
  },
  {
   "cell_type": "code",
   "execution_count": 100,
   "metadata": {},
   "outputs": [
    {
     "data": {
      "text/plain": [
       "DatetimeIndex(['2000-01-01 00:00:00', '2000-01-01 01:30:00',\n",
       "               '2000-01-01 03:00:00', '2000-01-01 04:30:00',\n",
       "               '2000-01-01 06:00:00', '2000-01-01 07:30:00',\n",
       "               '2000-01-01 09:00:00', '2000-01-01 10:30:00',\n",
       "               '2000-01-01 12:00:00', '2000-01-01 13:30:00'],\n",
       "              dtype='datetime64[ns]', freq='90T')"
      ]
     },
     "execution_count": 100,
     "metadata": {},
     "output_type": "execute_result"
    }
   ],
   "source": [
    "pd.date_range('2000-01-01', periods=10, freq='1h30min')"
   ]
  },
  {
   "cell_type": "code",
   "execution_count": 101,
   "metadata": {},
   "outputs": [],
   "source": [
    "rng = pd.date_range('2012-01-01', '2012-09-01', freq='WOM-3FRI')"
   ]
  },
  {
   "cell_type": "code",
   "execution_count": 102,
   "metadata": {},
   "outputs": [
    {
     "data": {
      "text/plain": [
       "DatetimeIndex(['2012-01-20', '2012-02-17', '2012-03-16', '2012-04-20',\n",
       "               '2012-05-18', '2012-06-15', '2012-07-20', '2012-08-17'],\n",
       "              dtype='datetime64[ns]', freq='WOM-3FRI')"
      ]
     },
     "execution_count": 102,
     "metadata": {},
     "output_type": "execute_result"
    }
   ],
   "source": [
    "rng"
   ]
  },
  {
   "cell_type": "code",
   "execution_count": 103,
   "metadata": {},
   "outputs": [
    {
     "data": {
      "text/plain": [
       "[Timestamp('2012-01-20 00:00:00', freq='WOM-3FRI'),\n",
       " Timestamp('2012-02-17 00:00:00', freq='WOM-3FRI'),\n",
       " Timestamp('2012-03-16 00:00:00', freq='WOM-3FRI'),\n",
       " Timestamp('2012-04-20 00:00:00', freq='WOM-3FRI'),\n",
       " Timestamp('2012-05-18 00:00:00', freq='WOM-3FRI'),\n",
       " Timestamp('2012-06-15 00:00:00', freq='WOM-3FRI'),\n",
       " Timestamp('2012-07-20 00:00:00', freq='WOM-3FRI'),\n",
       " Timestamp('2012-08-17 00:00:00', freq='WOM-3FRI')]"
      ]
     },
     "execution_count": 103,
     "metadata": {},
     "output_type": "execute_result"
    }
   ],
   "source": [
    "# 获取每月第三个星期五\n",
    "list(rng)"
   ]
  },
  {
   "cell_type": "code",
   "execution_count": 104,
   "metadata": {},
   "outputs": [],
   "source": [
    "ts = pd.Series(np.random.randn(4), index=pd.date_range('1/1/2000', periods=4, freq='M'))"
   ]
  },
  {
   "cell_type": "code",
   "execution_count": 105,
   "metadata": {},
   "outputs": [
    {
     "data": {
      "text/plain": [
       "2000-01-31   -0.532550\n",
       "2000-02-29    0.010755\n",
       "2000-03-31    0.897801\n",
       "2000-04-30    0.649501\n",
       "Freq: M, dtype: float64"
      ]
     },
     "execution_count": 105,
     "metadata": {},
     "output_type": "execute_result"
    }
   ],
   "source": [
    "ts"
   ]
  },
  {
   "cell_type": "code",
   "execution_count": 106,
   "metadata": {},
   "outputs": [
    {
     "data": {
      "text/plain": [
       "2000-01-31         NaN\n",
       "2000-02-29         NaN\n",
       "2000-03-31   -0.532550\n",
       "2000-04-30    0.010755\n",
       "Freq: M, dtype: float64"
      ]
     },
     "execution_count": 106,
     "metadata": {},
     "output_type": "execute_result"
    }
   ],
   "source": [
    "ts.shift(2)"
   ]
  },
  {
   "cell_type": "code",
   "execution_count": 107,
   "metadata": {},
   "outputs": [
    {
     "data": {
      "text/plain": [
       "2000-01-31    0.897801\n",
       "2000-02-29    0.649501\n",
       "2000-03-31         NaN\n",
       "2000-04-30         NaN\n",
       "Freq: M, dtype: float64"
      ]
     },
     "execution_count": 107,
     "metadata": {},
     "output_type": "execute_result"
    }
   ],
   "source": [
    "ts.shift(-2)"
   ]
  },
  {
   "cell_type": "code",
   "execution_count": 108,
   "metadata": {},
   "outputs": [
    {
     "data": {
      "text/plain": [
       "2000-03-31   -0.532550\n",
       "2000-04-30    0.010755\n",
       "2000-05-31    0.897801\n",
       "2000-06-30    0.649501\n",
       "Freq: M, dtype: float64"
      ]
     },
     "execution_count": 108,
     "metadata": {},
     "output_type": "execute_result"
    }
   ],
   "source": [
    "ts.shift(2, freq='M')"
   ]
  },
  {
   "cell_type": "code",
   "execution_count": 109,
   "metadata": {},
   "outputs": [
    {
     "data": {
      "text/plain": [
       "2000-02-03   -0.532550\n",
       "2000-03-03    0.010755\n",
       "2000-04-03    0.897801\n",
       "2000-05-03    0.649501\n",
       "dtype: float64"
      ]
     },
     "execution_count": 109,
     "metadata": {},
     "output_type": "execute_result"
    }
   ],
   "source": [
    "ts.shift(3, freq='D')"
   ]
  },
  {
   "cell_type": "code",
   "execution_count": 110,
   "metadata": {},
   "outputs": [
    {
     "data": {
      "text/plain": [
       "2000-01-31 01:30:00   -0.532550\n",
       "2000-02-29 01:30:00    0.010755\n",
       "2000-03-31 01:30:00    0.897801\n",
       "2000-04-30 01:30:00    0.649501\n",
       "Freq: M, dtype: float64"
      ]
     },
     "execution_count": 110,
     "metadata": {},
     "output_type": "execute_result"
    }
   ],
   "source": [
    "ts.shift(1, freq='90T')"
   ]
  },
  {
   "cell_type": "code",
   "execution_count": 111,
   "metadata": {},
   "outputs": [],
   "source": [
    "from pandas.tseries.offsets import Day, MonthEnd"
   ]
  },
  {
   "cell_type": "code",
   "execution_count": 112,
   "metadata": {},
   "outputs": [],
   "source": [
    "now = datetime(2011, 11, 17)"
   ]
  },
  {
   "cell_type": "code",
   "execution_count": 113,
   "metadata": {},
   "outputs": [
    {
     "data": {
      "text/plain": [
       "Timestamp('2011-11-20 00:00:00')"
      ]
     },
     "execution_count": 113,
     "metadata": {},
     "output_type": "execute_result"
    }
   ],
   "source": [
    "now + 3 * Day()"
   ]
  },
  {
   "cell_type": "code",
   "execution_count": 114,
   "metadata": {},
   "outputs": [
    {
     "data": {
      "text/plain": [
       "Timestamp('2011-11-30 00:00:00')"
      ]
     },
     "execution_count": 114,
     "metadata": {},
     "output_type": "execute_result"
    }
   ],
   "source": [
    "now + MonthEnd()"
   ]
  },
  {
   "cell_type": "code",
   "execution_count": 122,
   "metadata": {},
   "outputs": [
    {
     "data": {
      "text/plain": [
       "Timestamp('2011-12-31 00:00:00')"
      ]
     },
     "execution_count": 122,
     "metadata": {},
     "output_type": "execute_result"
    }
   ],
   "source": [
    "now + MonthEnd(2)"
   ]
  },
  {
   "cell_type": "code",
   "execution_count": 123,
   "metadata": {},
   "outputs": [],
   "source": [
    "offset = MonthEnd()"
   ]
  },
  {
   "cell_type": "code",
   "execution_count": 124,
   "metadata": {},
   "outputs": [
    {
     "data": {
      "text/plain": [
       "Timestamp('2011-11-30 00:00:00')"
      ]
     },
     "execution_count": 124,
     "metadata": {},
     "output_type": "execute_result"
    }
   ],
   "source": [
    "offset.rollforward(now)"
   ]
  },
  {
   "cell_type": "code",
   "execution_count": 125,
   "metadata": {},
   "outputs": [
    {
     "data": {
      "text/plain": [
       "Timestamp('2011-10-31 00:00:00')"
      ]
     },
     "execution_count": 125,
     "metadata": {},
     "output_type": "execute_result"
    }
   ],
   "source": [
    "offset.rollback(now)"
   ]
  },
  {
   "cell_type": "code",
   "execution_count": 126,
   "metadata": {},
   "outputs": [],
   "source": [
    "ts = pd.Series(np.random.randn(20), index=pd.date_range('1/15/2000', periods=20, freq='4d'))"
   ]
  },
  {
   "cell_type": "code",
   "execution_count": 127,
   "metadata": {},
   "outputs": [
    {
     "data": {
      "text/plain": [
       "2000-01-15    0.097183\n",
       "2000-01-19    0.621718\n",
       "2000-01-23    2.404227\n",
       "2000-01-27   -0.584082\n",
       "2000-01-31   -0.389300\n",
       "2000-02-04    0.005016\n",
       "2000-02-08    0.310134\n",
       "2000-02-12   -0.005331\n",
       "2000-02-16   -0.028373\n",
       "2000-02-20   -1.217420\n",
       "2000-02-24    1.618203\n",
       "2000-02-28   -0.432161\n",
       "2000-03-03    0.514374\n",
       "2000-03-07    0.397380\n",
       "2000-03-11   -1.929819\n",
       "2000-03-15   -0.297870\n",
       "2000-03-19    1.227698\n",
       "2000-03-23   -0.346540\n",
       "2000-03-27   -0.402309\n",
       "2000-03-31    2.113301\n",
       "Freq: 4D, dtype: float64"
      ]
     },
     "execution_count": 127,
     "metadata": {},
     "output_type": "execute_result"
    }
   ],
   "source": [
    "ts"
   ]
  },
  {
   "cell_type": "code",
   "execution_count": 128,
   "metadata": {},
   "outputs": [
    {
     "data": {
      "text/plain": [
       "2000-01-31    0.429949\n",
       "2000-02-29    0.035724\n",
       "2000-03-31    0.159527\n",
       "dtype: float64"
      ]
     },
     "execution_count": 128,
     "metadata": {},
     "output_type": "execute_result"
    }
   ],
   "source": [
    "ts.groupby(offset.rollforward).mean()"
   ]
  },
  {
   "cell_type": "code",
   "execution_count": 129,
   "metadata": {},
   "outputs": [
    {
     "data": {
      "text/plain": [
       "2000-01-31    0.429949\n",
       "2000-02-29    0.035724\n",
       "2000-03-31    0.159527\n",
       "Freq: M, dtype: float64"
      ]
     },
     "execution_count": 129,
     "metadata": {},
     "output_type": "execute_result"
    }
   ],
   "source": [
    "ts.resample('M').mean()"
   ]
  },
  {
   "cell_type": "code",
   "execution_count": 130,
   "metadata": {},
   "outputs": [],
   "source": [
    "import pytz"
   ]
  },
  {
   "cell_type": "code",
   "execution_count": 131,
   "metadata": {},
   "outputs": [
    {
     "data": {
      "text/plain": [
       "['US/Eastern', 'US/Hawaii', 'US/Mountain', 'US/Pacific', 'UTC']"
      ]
     },
     "execution_count": 131,
     "metadata": {},
     "output_type": "execute_result"
    }
   ],
   "source": [
    "pytz.common_timezones[-5:]"
   ]
  },
  {
   "cell_type": "code",
   "execution_count": 132,
   "metadata": {},
   "outputs": [],
   "source": [
    "tz = pytz.timezone('America/New_York')"
   ]
  },
  {
   "cell_type": "code",
   "execution_count": 133,
   "metadata": {},
   "outputs": [
    {
     "data": {
      "text/plain": [
       "<DstTzInfo 'America/New_York' LMT-1 day, 19:04:00 STD>"
      ]
     },
     "execution_count": 133,
     "metadata": {},
     "output_type": "execute_result"
    }
   ],
   "source": [
    "tz"
   ]
  },
  {
   "cell_type": "code",
   "execution_count": 134,
   "metadata": {},
   "outputs": [],
   "source": [
    "rng = pd.date_range('3/9/2012 9:30', periods=6, freq='D')"
   ]
  },
  {
   "cell_type": "code",
   "execution_count": 135,
   "metadata": {},
   "outputs": [
    {
     "data": {
      "text/plain": [
       "DatetimeIndex(['2012-03-09 09:30:00', '2012-03-10 09:30:00',\n",
       "               '2012-03-11 09:30:00', '2012-03-12 09:30:00',\n",
       "               '2012-03-13 09:30:00', '2012-03-14 09:30:00'],\n",
       "              dtype='datetime64[ns]', freq='D')"
      ]
     },
     "execution_count": 135,
     "metadata": {},
     "output_type": "execute_result"
    }
   ],
   "source": [
    "rng"
   ]
  },
  {
   "cell_type": "code",
   "execution_count": 136,
   "metadata": {},
   "outputs": [],
   "source": [
    "ts = pd.Series(np.random.randn(len(rng)), index=rng)"
   ]
  },
  {
   "cell_type": "code",
   "execution_count": 137,
   "metadata": {},
   "outputs": [
    {
     "data": {
      "text/plain": [
       "2012-03-09 09:30:00    0.839280\n",
       "2012-03-10 09:30:00   -0.289543\n",
       "2012-03-11 09:30:00    1.251675\n",
       "2012-03-12 09:30:00    1.309171\n",
       "2012-03-13 09:30:00   -1.613021\n",
       "2012-03-14 09:30:00    0.410016\n",
       "Freq: D, dtype: float64"
      ]
     },
     "execution_count": 137,
     "metadata": {},
     "output_type": "execute_result"
    }
   ],
   "source": [
    "ts"
   ]
  },
  {
   "cell_type": "code",
   "execution_count": 138,
   "metadata": {},
   "outputs": [
    {
     "name": "stdout",
     "output_type": "stream",
     "text": [
      "None\n"
     ]
    }
   ],
   "source": [
    "print(ts.index.tz)"
   ]
  },
  {
   "cell_type": "code",
   "execution_count": 139,
   "metadata": {},
   "outputs": [
    {
     "data": {
      "text/plain": [
       "DatetimeIndex(['2012-03-09 09:30:00+00:00', '2012-03-10 09:30:00+00:00',\n",
       "               '2012-03-11 09:30:00+00:00', '2012-03-12 09:30:00+00:00',\n",
       "               '2012-03-13 09:30:00+00:00', '2012-03-14 09:30:00+00:00',\n",
       "               '2012-03-15 09:30:00+00:00', '2012-03-16 09:30:00+00:00',\n",
       "               '2012-03-17 09:30:00+00:00', '2012-03-18 09:30:00+00:00'],\n",
       "              dtype='datetime64[ns, UTC]', freq='D')"
      ]
     },
     "execution_count": 139,
     "metadata": {},
     "output_type": "execute_result"
    }
   ],
   "source": [
    "pd.date_range('3/9/2012 9:30', periods=10, freq='D', tz='UTC')"
   ]
  },
  {
   "cell_type": "code",
   "execution_count": 140,
   "metadata": {},
   "outputs": [
    {
     "data": {
      "text/plain": [
       "2012-03-09 09:30:00    0.839280\n",
       "2012-03-10 09:30:00   -0.289543\n",
       "2012-03-11 09:30:00    1.251675\n",
       "2012-03-12 09:30:00    1.309171\n",
       "2012-03-13 09:30:00   -1.613021\n",
       "2012-03-14 09:30:00    0.410016\n",
       "Freq: D, dtype: float64"
      ]
     },
     "execution_count": 140,
     "metadata": {},
     "output_type": "execute_result"
    }
   ],
   "source": [
    "ts"
   ]
  },
  {
   "cell_type": "code",
   "execution_count": 141,
   "metadata": {},
   "outputs": [],
   "source": [
    "ts_utc = ts.tz_localize('UTC')"
   ]
  },
  {
   "cell_type": "code",
   "execution_count": 142,
   "metadata": {},
   "outputs": [
    {
     "data": {
      "text/plain": [
       "2012-03-09 09:30:00+00:00    0.839280\n",
       "2012-03-10 09:30:00+00:00   -0.289543\n",
       "2012-03-11 09:30:00+00:00    1.251675\n",
       "2012-03-12 09:30:00+00:00    1.309171\n",
       "2012-03-13 09:30:00+00:00   -1.613021\n",
       "2012-03-14 09:30:00+00:00    0.410016\n",
       "Freq: D, dtype: float64"
      ]
     },
     "execution_count": 142,
     "metadata": {},
     "output_type": "execute_result"
    }
   ],
   "source": [
    "ts_utc"
   ]
  },
  {
   "cell_type": "code",
   "execution_count": 143,
   "metadata": {},
   "outputs": [
    {
     "data": {
      "text/plain": [
       "DatetimeIndex(['2012-03-09 09:30:00+00:00', '2012-03-10 09:30:00+00:00',\n",
       "               '2012-03-11 09:30:00+00:00', '2012-03-12 09:30:00+00:00',\n",
       "               '2012-03-13 09:30:00+00:00', '2012-03-14 09:30:00+00:00'],\n",
       "              dtype='datetime64[ns, UTC]', freq='D')"
      ]
     },
     "execution_count": 143,
     "metadata": {},
     "output_type": "execute_result"
    }
   ],
   "source": [
    "ts_utc.index"
   ]
  },
  {
   "cell_type": "code",
   "execution_count": 144,
   "metadata": {},
   "outputs": [
    {
     "data": {
      "text/plain": [
       "2012-03-09 04:30:00-05:00    0.839280\n",
       "2012-03-10 04:30:00-05:00   -0.289543\n",
       "2012-03-11 05:30:00-04:00    1.251675\n",
       "2012-03-12 05:30:00-04:00    1.309171\n",
       "2012-03-13 05:30:00-04:00   -1.613021\n",
       "2012-03-14 05:30:00-04:00    0.410016\n",
       "Freq: D, dtype: float64"
      ]
     },
     "execution_count": 144,
     "metadata": {},
     "output_type": "execute_result"
    }
   ],
   "source": [
    "ts_utc.tz_convert('America/New_York')"
   ]
  },
  {
   "cell_type": "code",
   "execution_count": 145,
   "metadata": {},
   "outputs": [],
   "source": [
    "ts_eastern = ts.tz_localize('America/New_York')"
   ]
  },
  {
   "cell_type": "code",
   "execution_count": 146,
   "metadata": {},
   "outputs": [
    {
     "data": {
      "text/plain": [
       "2012-03-09 09:30:00-05:00    0.839280\n",
       "2012-03-10 09:30:00-05:00   -0.289543\n",
       "2012-03-11 09:30:00-04:00    1.251675\n",
       "2012-03-12 09:30:00-04:00    1.309171\n",
       "2012-03-13 09:30:00-04:00   -1.613021\n",
       "2012-03-14 09:30:00-04:00    0.410016\n",
       "Freq: D, dtype: float64"
      ]
     },
     "execution_count": 146,
     "metadata": {},
     "output_type": "execute_result"
    }
   ],
   "source": [
    "ts_eastern"
   ]
  },
  {
   "cell_type": "code",
   "execution_count": 147,
   "metadata": {},
   "outputs": [
    {
     "data": {
      "text/plain": [
       "2012-03-09 14:30:00+00:00    0.839280\n",
       "2012-03-10 14:30:00+00:00   -0.289543\n",
       "2012-03-11 13:30:00+00:00    1.251675\n",
       "2012-03-12 13:30:00+00:00    1.309171\n",
       "2012-03-13 13:30:00+00:00   -1.613021\n",
       "2012-03-14 13:30:00+00:00    0.410016\n",
       "Freq: D, dtype: float64"
      ]
     },
     "execution_count": 147,
     "metadata": {},
     "output_type": "execute_result"
    }
   ],
   "source": [
    "ts_eastern.tz_convert('UTC')"
   ]
  },
  {
   "cell_type": "code",
   "execution_count": 148,
   "metadata": {},
   "outputs": [
    {
     "data": {
      "text/plain": [
       "2012-03-09 15:30:00+01:00    0.839280\n",
       "2012-03-10 15:30:00+01:00   -0.289543\n",
       "2012-03-11 14:30:00+01:00    1.251675\n",
       "2012-03-12 14:30:00+01:00    1.309171\n",
       "2012-03-13 14:30:00+01:00   -1.613021\n",
       "2012-03-14 14:30:00+01:00    0.410016\n",
       "Freq: D, dtype: float64"
      ]
     },
     "execution_count": 148,
     "metadata": {},
     "output_type": "execute_result"
    }
   ],
   "source": [
    "ts_eastern.tz_convert('Europe/Berlin')"
   ]
  },
  {
   "cell_type": "code",
   "execution_count": 149,
   "metadata": {},
   "outputs": [
    {
     "data": {
      "text/plain": [
       "DatetimeIndex(['2012-03-09 09:30:00+08:00', '2012-03-10 09:30:00+08:00',\n",
       "               '2012-03-11 09:30:00+08:00', '2012-03-12 09:30:00+08:00',\n",
       "               '2012-03-13 09:30:00+08:00', '2012-03-14 09:30:00+08:00'],\n",
       "              dtype='datetime64[ns, Asia/Shanghai]', freq='D')"
      ]
     },
     "execution_count": 149,
     "metadata": {},
     "output_type": "execute_result"
    }
   ],
   "source": [
    "ts.index.tz_localize('Asia/Shanghai')"
   ]
  },
  {
   "cell_type": "code",
   "execution_count": 150,
   "metadata": {},
   "outputs": [],
   "source": [
    "stamp = pd.Timestamp('2011-03-12 04:00')"
   ]
  },
  {
   "cell_type": "code",
   "execution_count": 151,
   "metadata": {},
   "outputs": [],
   "source": [
    "stamp_utc = stamp.tz_localize('utc')"
   ]
  },
  {
   "cell_type": "code",
   "execution_count": 152,
   "metadata": {},
   "outputs": [
    {
     "data": {
      "text/plain": [
       "Timestamp('2011-03-11 23:00:00-0500', tz='America/New_York')"
      ]
     },
     "execution_count": 152,
     "metadata": {},
     "output_type": "execute_result"
    }
   ],
   "source": [
    "stamp_utc.tz_convert('America/New_York')"
   ]
  },
  {
   "cell_type": "code",
   "execution_count": 153,
   "metadata": {},
   "outputs": [],
   "source": [
    "stamp_moscow = pd.Timestamp('2011-03-12 04:00', tz='Europe/Moscow')"
   ]
  },
  {
   "cell_type": "code",
   "execution_count": 154,
   "metadata": {},
   "outputs": [
    {
     "data": {
      "text/plain": [
       "Timestamp('2011-03-12 04:00:00+0300', tz='Europe/Moscow')"
      ]
     },
     "execution_count": 154,
     "metadata": {},
     "output_type": "execute_result"
    }
   ],
   "source": [
    "stamp_moscow"
   ]
  },
  {
   "cell_type": "code",
   "execution_count": 155,
   "metadata": {},
   "outputs": [
    {
     "data": {
      "text/plain": [
       "1299902400000000000"
      ]
     },
     "execution_count": 155,
     "metadata": {},
     "output_type": "execute_result"
    }
   ],
   "source": [
    "stamp_utc.value"
   ]
  },
  {
   "cell_type": "code",
   "execution_count": 156,
   "metadata": {},
   "outputs": [
    {
     "data": {
      "text/plain": [
       "1299902400000000000"
      ]
     },
     "execution_count": 156,
     "metadata": {},
     "output_type": "execute_result"
    }
   ],
   "source": [
    "stamp_utc.tz_convert('America/New_York').value"
   ]
  },
  {
   "cell_type": "code",
   "execution_count": 157,
   "metadata": {},
   "outputs": [],
   "source": [
    "from pandas.tseries.offsets import Hour"
   ]
  },
  {
   "cell_type": "code",
   "execution_count": 158,
   "metadata": {},
   "outputs": [],
   "source": [
    "stamp = pd.Timestamp('2012-03-12 01:30', tz='US/Eastern')"
   ]
  },
  {
   "cell_type": "code",
   "execution_count": 159,
   "metadata": {},
   "outputs": [
    {
     "data": {
      "text/plain": [
       "Timestamp('2012-03-12 01:30:00-0400', tz='US/Eastern')"
      ]
     },
     "execution_count": 159,
     "metadata": {},
     "output_type": "execute_result"
    }
   ],
   "source": [
    "stamp"
   ]
  },
  {
   "cell_type": "code",
   "execution_count": 160,
   "metadata": {},
   "outputs": [
    {
     "data": {
      "text/plain": [
       "Timestamp('2012-03-12 02:30:00-0400', tz='US/Eastern')"
      ]
     },
     "execution_count": 160,
     "metadata": {},
     "output_type": "execute_result"
    }
   ],
   "source": [
    "stamp + Hour()"
   ]
  },
  {
   "cell_type": "code",
   "execution_count": 161,
   "metadata": {},
   "outputs": [],
   "source": [
    "stamp = pd.Timestamp('2012-11-04 00:30', tz='US/Eastern')"
   ]
  },
  {
   "cell_type": "code",
   "execution_count": 162,
   "metadata": {},
   "outputs": [
    {
     "data": {
      "text/plain": [
       "Timestamp('2012-11-04 00:30:00-0400', tz='US/Eastern')"
      ]
     },
     "execution_count": 162,
     "metadata": {},
     "output_type": "execute_result"
    }
   ],
   "source": [
    "stamp"
   ]
  },
  {
   "cell_type": "code",
   "execution_count": 163,
   "metadata": {},
   "outputs": [
    {
     "data": {
      "text/plain": [
       "Timestamp('2012-11-04 01:30:00-0500', tz='US/Eastern')"
      ]
     },
     "execution_count": 163,
     "metadata": {},
     "output_type": "execute_result"
    }
   ],
   "source": [
    "stamp + 2 * Hour()"
   ]
  },
  {
   "cell_type": "code",
   "execution_count": 164,
   "metadata": {},
   "outputs": [],
   "source": [
    "rng = pd.date_range('3/7/2012 9:30', periods=10, freq='B')"
   ]
  },
  {
   "cell_type": "code",
   "execution_count": 165,
   "metadata": {},
   "outputs": [
    {
     "data": {
      "text/plain": [
       "DatetimeIndex(['2012-03-07 09:30:00', '2012-03-08 09:30:00',\n",
       "               '2012-03-09 09:30:00', '2012-03-12 09:30:00',\n",
       "               '2012-03-13 09:30:00', '2012-03-14 09:30:00',\n",
       "               '2012-03-15 09:30:00', '2012-03-16 09:30:00',\n",
       "               '2012-03-19 09:30:00', '2012-03-20 09:30:00'],\n",
       "              dtype='datetime64[ns]', freq='B')"
      ]
     },
     "execution_count": 165,
     "metadata": {},
     "output_type": "execute_result"
    }
   ],
   "source": [
    "rng"
   ]
  },
  {
   "cell_type": "code",
   "execution_count": 166,
   "metadata": {},
   "outputs": [],
   "source": [
    "ts = pd.Series(np.random.randn(len(rng)), index=rng)"
   ]
  },
  {
   "cell_type": "code",
   "execution_count": 167,
   "metadata": {},
   "outputs": [
    {
     "data": {
      "text/plain": [
       "2012-03-07 09:30:00    1.383397\n",
       "2012-03-08 09:30:00    0.026665\n",
       "2012-03-09 09:30:00    0.560925\n",
       "2012-03-12 09:30:00    1.624320\n",
       "2012-03-13 09:30:00    0.326902\n",
       "2012-03-14 09:30:00    0.119629\n",
       "2012-03-15 09:30:00    1.519508\n",
       "2012-03-16 09:30:00    0.275078\n",
       "2012-03-19 09:30:00   -0.181473\n",
       "2012-03-20 09:30:00   -1.022271\n",
       "Freq: B, dtype: float64"
      ]
     },
     "execution_count": 167,
     "metadata": {},
     "output_type": "execute_result"
    }
   ],
   "source": [
    "ts"
   ]
  },
  {
   "cell_type": "code",
   "execution_count": 168,
   "metadata": {},
   "outputs": [],
   "source": [
    "ts1 = ts[:7].tz_localize('Europe/London')"
   ]
  },
  {
   "cell_type": "code",
   "execution_count": 169,
   "metadata": {},
   "outputs": [],
   "source": [
    "ts2 = ts1[2:].tz_convert('Europe/Moscow')"
   ]
  },
  {
   "cell_type": "code",
   "execution_count": 172,
   "metadata": {},
   "outputs": [
    {
     "data": {
      "text/plain": [
       "2012-03-07 09:30:00+00:00    1.383397\n",
       "2012-03-08 09:30:00+00:00    0.026665\n",
       "2012-03-09 09:30:00+00:00    0.560925\n",
       "2012-03-12 09:30:00+00:00    1.624320\n",
       "2012-03-13 09:30:00+00:00    0.326902\n",
       "2012-03-14 09:30:00+00:00    0.119629\n",
       "2012-03-15 09:30:00+00:00    1.519508\n",
       "Freq: B, dtype: float64"
      ]
     },
     "execution_count": 172,
     "metadata": {},
     "output_type": "execute_result"
    }
   ],
   "source": [
    "ts1"
   ]
  },
  {
   "cell_type": "code",
   "execution_count": 173,
   "metadata": {},
   "outputs": [
    {
     "data": {
      "text/plain": [
       "2012-03-09 13:30:00+04:00    0.560925\n",
       "2012-03-12 13:30:00+04:00    1.624320\n",
       "2012-03-13 13:30:00+04:00    0.326902\n",
       "2012-03-14 13:30:00+04:00    0.119629\n",
       "2012-03-15 13:30:00+04:00    1.519508\n",
       "Freq: B, dtype: float64"
      ]
     },
     "execution_count": 173,
     "metadata": {},
     "output_type": "execute_result"
    }
   ],
   "source": [
    "ts2"
   ]
  },
  {
   "cell_type": "code",
   "execution_count": 174,
   "metadata": {},
   "outputs": [],
   "source": [
    "result = ts1 + ts2"
   ]
  },
  {
   "cell_type": "code",
   "execution_count": 175,
   "metadata": {},
   "outputs": [
    {
     "data": {
      "text/plain": [
       "DatetimeIndex(['2012-03-07 09:30:00+00:00', '2012-03-08 09:30:00+00:00',\n",
       "               '2012-03-09 09:30:00+00:00', '2012-03-12 09:30:00+00:00',\n",
       "               '2012-03-13 09:30:00+00:00', '2012-03-14 09:30:00+00:00',\n",
       "               '2012-03-15 09:30:00+00:00'],\n",
       "              dtype='datetime64[ns, UTC]', freq='B')"
      ]
     },
     "execution_count": 175,
     "metadata": {},
     "output_type": "execute_result"
    }
   ],
   "source": [
    "result.index"
   ]
  },
  {
   "cell_type": "code",
   "execution_count": 176,
   "metadata": {},
   "outputs": [
    {
     "data": {
      "text/plain": [
       "2012-03-07 09:30:00+00:00         NaN\n",
       "2012-03-08 09:30:00+00:00         NaN\n",
       "2012-03-09 09:30:00+00:00    1.121850\n",
       "2012-03-12 09:30:00+00:00    3.248639\n",
       "2012-03-13 09:30:00+00:00    0.653804\n",
       "2012-03-14 09:30:00+00:00    0.239258\n",
       "2012-03-15 09:30:00+00:00    3.039017\n",
       "Freq: B, dtype: float64"
      ]
     },
     "execution_count": 176,
     "metadata": {},
     "output_type": "execute_result"
    }
   ],
   "source": [
    "result"
   ]
  },
  {
   "cell_type": "code",
   "execution_count": 177,
   "metadata": {},
   "outputs": [],
   "source": [
    "p = pd.Period(2007, freq='A-DEC')"
   ]
  },
  {
   "cell_type": "code",
   "execution_count": 178,
   "metadata": {},
   "outputs": [
    {
     "data": {
      "text/plain": [
       "Period('2007', 'A-DEC')"
      ]
     },
     "execution_count": 178,
     "metadata": {},
     "output_type": "execute_result"
    }
   ],
   "source": [
    "p"
   ]
  },
  {
   "cell_type": "code",
   "execution_count": 179,
   "metadata": {},
   "outputs": [
    {
     "data": {
      "text/plain": [
       "Period('2012', 'A-DEC')"
      ]
     },
     "execution_count": 179,
     "metadata": {},
     "output_type": "execute_result"
    }
   ],
   "source": [
    "p + 5"
   ]
  },
  {
   "cell_type": "code",
   "execution_count": 180,
   "metadata": {},
   "outputs": [
    {
     "data": {
      "text/plain": [
       "Period('2005', 'A-DEC')"
      ]
     },
     "execution_count": 180,
     "metadata": {},
     "output_type": "execute_result"
    }
   ],
   "source": [
    "p - 2"
   ]
  },
  {
   "cell_type": "code",
   "execution_count": 181,
   "metadata": {},
   "outputs": [
    {
     "data": {
      "text/plain": [
       "<7 * YearEnds: month=12>"
      ]
     },
     "execution_count": 181,
     "metadata": {},
     "output_type": "execute_result"
    }
   ],
   "source": [
    "pd.Period('2014', freq='A-DEC') - p"
   ]
  },
  {
   "cell_type": "code",
   "execution_count": 182,
   "metadata": {},
   "outputs": [],
   "source": [
    "rng = pd.period_range('2000-01-01', '2000-06-30', freq='M')"
   ]
  },
  {
   "cell_type": "code",
   "execution_count": 183,
   "metadata": {},
   "outputs": [
    {
     "data": {
      "text/plain": [
       "PeriodIndex(['2000-01', '2000-02', '2000-03', '2000-04', '2000-05', '2000-06'], dtype='period[M]', freq='M')"
      ]
     },
     "execution_count": 183,
     "metadata": {},
     "output_type": "execute_result"
    }
   ],
   "source": [
    "rng"
   ]
  },
  {
   "cell_type": "code",
   "execution_count": 184,
   "metadata": {},
   "outputs": [
    {
     "data": {
      "text/plain": [
       "2000-01    0.132433\n",
       "2000-02   -1.128574\n",
       "2000-03   -0.235329\n",
       "2000-04    0.486971\n",
       "2000-05   -0.525569\n",
       "2000-06   -0.446044\n",
       "Freq: M, dtype: float64"
      ]
     },
     "execution_count": 184,
     "metadata": {},
     "output_type": "execute_result"
    }
   ],
   "source": [
    "pd.Series(np.random.randn(6), index=rng)"
   ]
  },
  {
   "cell_type": "code",
   "execution_count": 185,
   "metadata": {},
   "outputs": [],
   "source": [
    "values = ['2001Q3', '2002Q2', '2003Q1']"
   ]
  },
  {
   "cell_type": "code",
   "execution_count": 186,
   "metadata": {},
   "outputs": [],
   "source": [
    "index = pd.PeriodIndex(values, freq='Q-DEC')"
   ]
  },
  {
   "cell_type": "code",
   "execution_count": 187,
   "metadata": {},
   "outputs": [
    {
     "data": {
      "text/plain": [
       "PeriodIndex(['2001Q3', '2002Q2', '2003Q1'], dtype='period[Q-DEC]', freq='Q-DEC')"
      ]
     },
     "execution_count": 187,
     "metadata": {},
     "output_type": "execute_result"
    }
   ],
   "source": [
    "index"
   ]
  },
  {
   "cell_type": "code",
   "execution_count": 188,
   "metadata": {},
   "outputs": [],
   "source": [
    "p = pd.Period('2007', freq='A-DEC')"
   ]
  },
  {
   "cell_type": "code",
   "execution_count": 189,
   "metadata": {},
   "outputs": [
    {
     "data": {
      "text/plain": [
       "Period('2007', 'A-DEC')"
      ]
     },
     "execution_count": 189,
     "metadata": {},
     "output_type": "execute_result"
    }
   ],
   "source": [
    "p"
   ]
  },
  {
   "cell_type": "code",
   "execution_count": 190,
   "metadata": {},
   "outputs": [
    {
     "data": {
      "text/plain": [
       "Period('2007-01', 'M')"
      ]
     },
     "execution_count": 190,
     "metadata": {},
     "output_type": "execute_result"
    }
   ],
   "source": [
    "p.asfreq('M', how='start')"
   ]
  },
  {
   "cell_type": "code",
   "execution_count": 191,
   "metadata": {},
   "outputs": [
    {
     "data": {
      "text/plain": [
       "Period('2007-12', 'M')"
      ]
     },
     "execution_count": 191,
     "metadata": {},
     "output_type": "execute_result"
    }
   ],
   "source": [
    "p.asfreq('M', how='end')"
   ]
  },
  {
   "cell_type": "code",
   "execution_count": 192,
   "metadata": {},
   "outputs": [],
   "source": [
    "p = pd.Period('2007', freq='A-JUN')"
   ]
  },
  {
   "cell_type": "code",
   "execution_count": 193,
   "metadata": {},
   "outputs": [
    {
     "data": {
      "text/plain": [
       "Period('2007', 'A-JUN')"
      ]
     },
     "execution_count": 193,
     "metadata": {},
     "output_type": "execute_result"
    }
   ],
   "source": [
    "p"
   ]
  },
  {
   "cell_type": "code",
   "execution_count": 194,
   "metadata": {},
   "outputs": [
    {
     "data": {
      "text/plain": [
       "Period('2006-07', 'M')"
      ]
     },
     "execution_count": 194,
     "metadata": {},
     "output_type": "execute_result"
    }
   ],
   "source": [
    "p.asfreq('M', 'start')"
   ]
  },
  {
   "cell_type": "code",
   "execution_count": 195,
   "metadata": {},
   "outputs": [
    {
     "data": {
      "text/plain": [
       "Period('2007-06', 'M')"
      ]
     },
     "execution_count": 195,
     "metadata": {},
     "output_type": "execute_result"
    }
   ],
   "source": [
    "p.asfreq('M', 'end')"
   ]
  },
  {
   "cell_type": "code",
   "execution_count": 196,
   "metadata": {},
   "outputs": [],
   "source": [
    "p = pd.Period('Aug-2007', 'M')"
   ]
  },
  {
   "cell_type": "code",
   "execution_count": 197,
   "metadata": {},
   "outputs": [
    {
     "data": {
      "text/plain": [
       "Period('2007-08', 'M')"
      ]
     },
     "execution_count": 197,
     "metadata": {},
     "output_type": "execute_result"
    }
   ],
   "source": [
    "p"
   ]
  },
  {
   "cell_type": "code",
   "execution_count": 198,
   "metadata": {},
   "outputs": [
    {
     "data": {
      "text/plain": [
       "Period('2008', 'A-JUN')"
      ]
     },
     "execution_count": 198,
     "metadata": {},
     "output_type": "execute_result"
    }
   ],
   "source": [
    "p.asfreq('A-JUN')"
   ]
  },
  {
   "cell_type": "code",
   "execution_count": 199,
   "metadata": {},
   "outputs": [],
   "source": [
    "rng = pd.period_range('2006', '2009', freq='A-DEC')"
   ]
  },
  {
   "cell_type": "code",
   "execution_count": 200,
   "metadata": {},
   "outputs": [
    {
     "data": {
      "text/plain": [
       "PeriodIndex(['2006', '2007', '2008', '2009'], dtype='period[A-DEC]', freq='A-DEC')"
      ]
     },
     "execution_count": 200,
     "metadata": {},
     "output_type": "execute_result"
    }
   ],
   "source": [
    "rng"
   ]
  },
  {
   "cell_type": "code",
   "execution_count": 201,
   "metadata": {},
   "outputs": [],
   "source": [
    "ts = pd.Series(np.random.randn(len(rng)), index=rng)"
   ]
  },
  {
   "cell_type": "code",
   "execution_count": 202,
   "metadata": {},
   "outputs": [
    {
     "data": {
      "text/plain": [
       "2006   -1.498196\n",
       "2007    0.033771\n",
       "2008    0.271516\n",
       "2009   -0.261432\n",
       "Freq: A-DEC, dtype: float64"
      ]
     },
     "execution_count": 202,
     "metadata": {},
     "output_type": "execute_result"
    }
   ],
   "source": [
    "ts"
   ]
  },
  {
   "cell_type": "code",
   "execution_count": 203,
   "metadata": {},
   "outputs": [
    {
     "data": {
      "text/plain": [
       "2006-01   -1.498196\n",
       "2007-01    0.033771\n",
       "2008-01    0.271516\n",
       "2009-01   -0.261432\n",
       "Freq: M, dtype: float64"
      ]
     },
     "execution_count": 203,
     "metadata": {},
     "output_type": "execute_result"
    }
   ],
   "source": [
    "ts.asfreq('M', how='start')"
   ]
  },
  {
   "cell_type": "code",
   "execution_count": 204,
   "metadata": {},
   "outputs": [
    {
     "data": {
      "text/plain": [
       "2006-12-29   -1.498196\n",
       "2007-12-31    0.033771\n",
       "2008-12-31    0.271516\n",
       "2009-12-31   -0.261432\n",
       "Freq: B, dtype: float64"
      ]
     },
     "execution_count": 204,
     "metadata": {},
     "output_type": "execute_result"
    }
   ],
   "source": [
    "ts.asfreq('B', how='end')"
   ]
  },
  {
   "cell_type": "code",
   "execution_count": 205,
   "metadata": {},
   "outputs": [],
   "source": [
    "p = pd.Period('2012Q4', freq='Q-JAN')"
   ]
  },
  {
   "cell_type": "code",
   "execution_count": 206,
   "metadata": {},
   "outputs": [
    {
     "data": {
      "text/plain": [
       "Period('2012Q4', 'Q-JAN')"
      ]
     },
     "execution_count": 206,
     "metadata": {},
     "output_type": "execute_result"
    }
   ],
   "source": [
    "p"
   ]
  },
  {
   "cell_type": "code",
   "execution_count": 207,
   "metadata": {},
   "outputs": [
    {
     "data": {
      "text/plain": [
       "Period('2011-11-01', 'D')"
      ]
     },
     "execution_count": 207,
     "metadata": {},
     "output_type": "execute_result"
    }
   ],
   "source": [
    "p.asfreq('D', 'start')"
   ]
  },
  {
   "cell_type": "code",
   "execution_count": 208,
   "metadata": {},
   "outputs": [
    {
     "data": {
      "text/plain": [
       "Period('2012-01-31', 'D')"
      ]
     },
     "execution_count": 208,
     "metadata": {},
     "output_type": "execute_result"
    }
   ],
   "source": [
    "p.asfreq('D', 'end')"
   ]
  },
  {
   "cell_type": "code",
   "execution_count": 209,
   "metadata": {},
   "outputs": [],
   "source": [
    "# 获取在季度倒数第二个工作日下午4点的时间戳\n",
    "p4pm = (p.asfreq('B', 'e') - 1).asfreq('T', 's') + 16 * 60"
   ]
  },
  {
   "cell_type": "code",
   "execution_count": 210,
   "metadata": {},
   "outputs": [
    {
     "data": {
      "text/plain": [
       "Period('2012-01-30 16:00', 'T')"
      ]
     },
     "execution_count": 210,
     "metadata": {},
     "output_type": "execute_result"
    }
   ],
   "source": [
    "p4pm"
   ]
  },
  {
   "cell_type": "code",
   "execution_count": 211,
   "metadata": {},
   "outputs": [
    {
     "data": {
      "text/plain": [
       "Timestamp('2012-01-30 16:00:00')"
      ]
     },
     "execution_count": 211,
     "metadata": {},
     "output_type": "execute_result"
    }
   ],
   "source": [
    "p4pm.to_timestamp()"
   ]
  },
  {
   "cell_type": "code",
   "execution_count": 212,
   "metadata": {},
   "outputs": [],
   "source": [
    "rng = pd.period_range('2011Q3', '2012Q4', freq='Q-JAN')"
   ]
  },
  {
   "cell_type": "code",
   "execution_count": 213,
   "metadata": {},
   "outputs": [],
   "source": [
    "ts = pd.Series(np.arange(len(rng)), index=rng)"
   ]
  },
  {
   "cell_type": "code",
   "execution_count": 214,
   "metadata": {},
   "outputs": [
    {
     "data": {
      "text/plain": [
       "2011Q3    0\n",
       "2011Q4    1\n",
       "2012Q1    2\n",
       "2012Q2    3\n",
       "2012Q3    4\n",
       "2012Q4    5\n",
       "Freq: Q-JAN, dtype: int32"
      ]
     },
     "execution_count": 214,
     "metadata": {},
     "output_type": "execute_result"
    }
   ],
   "source": [
    "ts"
   ]
  },
  {
   "cell_type": "code",
   "execution_count": 215,
   "metadata": {},
   "outputs": [],
   "source": [
    "new_rng = (rng.asfreq('B', 'e') - 1).asfreq('T', 's') + 16 * 60"
   ]
  },
  {
   "cell_type": "code",
   "execution_count": 216,
   "metadata": {},
   "outputs": [
    {
     "data": {
      "text/plain": [
       "PeriodIndex(['2010-10-28 16:00', '2011-01-28 16:00', '2011-04-28 16:00',\n",
       "             '2011-07-28 16:00', '2011-10-28 16:00', '2012-01-30 16:00'],\n",
       "            dtype='period[T]', freq='T')"
      ]
     },
     "execution_count": 216,
     "metadata": {},
     "output_type": "execute_result"
    }
   ],
   "source": [
    "new_rng"
   ]
  },
  {
   "cell_type": "code",
   "execution_count": 217,
   "metadata": {},
   "outputs": [],
   "source": [
    "ts.index = new_rng.to_timestamp()"
   ]
  },
  {
   "cell_type": "code",
   "execution_count": 218,
   "metadata": {},
   "outputs": [
    {
     "data": {
      "text/plain": [
       "2010-10-28 16:00:00    0\n",
       "2011-01-28 16:00:00    1\n",
       "2011-04-28 16:00:00    2\n",
       "2011-07-28 16:00:00    3\n",
       "2011-10-28 16:00:00    4\n",
       "2012-01-30 16:00:00    5\n",
       "dtype: int32"
      ]
     },
     "execution_count": 218,
     "metadata": {},
     "output_type": "execute_result"
    }
   ],
   "source": [
    "ts"
   ]
  },
  {
   "cell_type": "code",
   "execution_count": 219,
   "metadata": {},
   "outputs": [],
   "source": [
    "rng = pd.date_range('2000-01-01', periods=3, freq='M')"
   ]
  },
  {
   "cell_type": "code",
   "execution_count": 220,
   "metadata": {},
   "outputs": [
    {
     "data": {
      "text/plain": [
       "DatetimeIndex(['2000-01-31', '2000-02-29', '2000-03-31'], dtype='datetime64[ns]', freq='M')"
      ]
     },
     "execution_count": 220,
     "metadata": {},
     "output_type": "execute_result"
    }
   ],
   "source": [
    "rng"
   ]
  },
  {
   "cell_type": "code",
   "execution_count": 221,
   "metadata": {},
   "outputs": [],
   "source": [
    "ts = pd.Series(np.random.randn(3), index=rng)"
   ]
  },
  {
   "cell_type": "code",
   "execution_count": 222,
   "metadata": {},
   "outputs": [
    {
     "data": {
      "text/plain": [
       "2000-01-31    0.536969\n",
       "2000-02-29   -0.294607\n",
       "2000-03-31    0.244913\n",
       "Freq: M, dtype: float64"
      ]
     },
     "execution_count": 222,
     "metadata": {},
     "output_type": "execute_result"
    }
   ],
   "source": [
    "ts"
   ]
  },
  {
   "cell_type": "code",
   "execution_count": 223,
   "metadata": {},
   "outputs": [],
   "source": [
    "pts = ts.to_period()"
   ]
  },
  {
   "cell_type": "code",
   "execution_count": 224,
   "metadata": {},
   "outputs": [
    {
     "data": {
      "text/plain": [
       "2000-01    0.536969\n",
       "2000-02   -0.294607\n",
       "2000-03    0.244913\n",
       "Freq: M, dtype: float64"
      ]
     },
     "execution_count": 224,
     "metadata": {},
     "output_type": "execute_result"
    }
   ],
   "source": [
    "pts"
   ]
  },
  {
   "cell_type": "code",
   "execution_count": 225,
   "metadata": {},
   "outputs": [],
   "source": [
    "rng = pd.date_range('1/29/2000', periods=6, freq='D')"
   ]
  },
  {
   "cell_type": "code",
   "execution_count": 226,
   "metadata": {},
   "outputs": [
    {
     "data": {
      "text/plain": [
       "DatetimeIndex(['2000-01-29', '2000-01-30', '2000-01-31', '2000-02-01',\n",
       "               '2000-02-02', '2000-02-03'],\n",
       "              dtype='datetime64[ns]', freq='D')"
      ]
     },
     "execution_count": 226,
     "metadata": {},
     "output_type": "execute_result"
    }
   ],
   "source": [
    "rng"
   ]
  },
  {
   "cell_type": "code",
   "execution_count": 227,
   "metadata": {},
   "outputs": [],
   "source": [
    "ts2 = pd.Series(np.random.randn(6), index=rng)"
   ]
  },
  {
   "cell_type": "code",
   "execution_count": 228,
   "metadata": {},
   "outputs": [
    {
     "data": {
      "text/plain": [
       "2000-01-29    0.812791\n",
       "2000-01-30    0.995198\n",
       "2000-01-31   -0.666172\n",
       "2000-02-01    0.965817\n",
       "2000-02-02    0.096156\n",
       "2000-02-03   -0.033619\n",
       "Freq: D, dtype: float64"
      ]
     },
     "execution_count": 228,
     "metadata": {},
     "output_type": "execute_result"
    }
   ],
   "source": [
    "ts2"
   ]
  },
  {
   "cell_type": "code",
   "execution_count": 229,
   "metadata": {},
   "outputs": [
    {
     "data": {
      "text/plain": [
       "2000-01    0.812791\n",
       "2000-01    0.995198\n",
       "2000-01   -0.666172\n",
       "2000-02    0.965817\n",
       "2000-02    0.096156\n",
       "2000-02   -0.033619\n",
       "Freq: M, dtype: float64"
      ]
     },
     "execution_count": 229,
     "metadata": {},
     "output_type": "execute_result"
    }
   ],
   "source": [
    "ts2.to_period('M')"
   ]
  },
  {
   "cell_type": "code",
   "execution_count": 230,
   "metadata": {},
   "outputs": [],
   "source": [
    "pts = ts2.to_period()"
   ]
  },
  {
   "cell_type": "code",
   "execution_count": 231,
   "metadata": {},
   "outputs": [
    {
     "data": {
      "text/plain": [
       "2000-01-29    0.812791\n",
       "2000-01-30    0.995198\n",
       "2000-01-31   -0.666172\n",
       "2000-02-01    0.965817\n",
       "2000-02-02    0.096156\n",
       "2000-02-03   -0.033619\n",
       "Freq: D, dtype: float64"
      ]
     },
     "execution_count": 231,
     "metadata": {},
     "output_type": "execute_result"
    }
   ],
   "source": [
    "pts"
   ]
  },
  {
   "cell_type": "code",
   "execution_count": 232,
   "metadata": {},
   "outputs": [
    {
     "data": {
      "text/plain": [
       "2000-01-29 23:59:59.999999999    0.812791\n",
       "2000-01-30 23:59:59.999999999    0.995198\n",
       "2000-01-31 23:59:59.999999999   -0.666172\n",
       "2000-02-01 23:59:59.999999999    0.965817\n",
       "2000-02-02 23:59:59.999999999    0.096156\n",
       "2000-02-03 23:59:59.999999999   -0.033619\n",
       "Freq: D, dtype: float64"
      ]
     },
     "execution_count": 232,
     "metadata": {},
     "output_type": "execute_result"
    }
   ],
   "source": [
    "pts.to_timestamp(how='end')"
   ]
  },
  {
   "cell_type": "code",
   "execution_count": 233,
   "metadata": {},
   "outputs": [],
   "source": [
    "data = pd.read_csv('examples/macrodata.csv')"
   ]
  },
  {
   "cell_type": "code",
   "execution_count": 234,
   "metadata": {},
   "outputs": [
    {
     "data": {
      "text/html": [
       "<div>\n",
       "<style scoped>\n",
       "    .dataframe tbody tr th:only-of-type {\n",
       "        vertical-align: middle;\n",
       "    }\n",
       "\n",
       "    .dataframe tbody tr th {\n",
       "        vertical-align: top;\n",
       "    }\n",
       "\n",
       "    .dataframe thead th {\n",
       "        text-align: right;\n",
       "    }\n",
       "</style>\n",
       "<table border=\"1\" class=\"dataframe\">\n",
       "  <thead>\n",
       "    <tr style=\"text-align: right;\">\n",
       "      <th></th>\n",
       "      <th>year</th>\n",
       "      <th>quarter</th>\n",
       "      <th>realgdp</th>\n",
       "      <th>realcons</th>\n",
       "      <th>realinv</th>\n",
       "      <th>realgovt</th>\n",
       "      <th>realdpi</th>\n",
       "      <th>cpi</th>\n",
       "      <th>m1</th>\n",
       "      <th>tbilrate</th>\n",
       "      <th>unemp</th>\n",
       "      <th>pop</th>\n",
       "      <th>infl</th>\n",
       "      <th>realint</th>\n",
       "    </tr>\n",
       "  </thead>\n",
       "  <tbody>\n",
       "    <tr>\n",
       "      <th>0</th>\n",
       "      <td>1959.0</td>\n",
       "      <td>1.0</td>\n",
       "      <td>2710.349</td>\n",
       "      <td>1707.4</td>\n",
       "      <td>286.898</td>\n",
       "      <td>470.045</td>\n",
       "      <td>1886.9</td>\n",
       "      <td>28.98</td>\n",
       "      <td>139.7</td>\n",
       "      <td>2.82</td>\n",
       "      <td>5.8</td>\n",
       "      <td>177.146</td>\n",
       "      <td>0.00</td>\n",
       "      <td>0.00</td>\n",
       "    </tr>\n",
       "    <tr>\n",
       "      <th>1</th>\n",
       "      <td>1959.0</td>\n",
       "      <td>2.0</td>\n",
       "      <td>2778.801</td>\n",
       "      <td>1733.7</td>\n",
       "      <td>310.859</td>\n",
       "      <td>481.301</td>\n",
       "      <td>1919.7</td>\n",
       "      <td>29.15</td>\n",
       "      <td>141.7</td>\n",
       "      <td>3.08</td>\n",
       "      <td>5.1</td>\n",
       "      <td>177.830</td>\n",
       "      <td>2.34</td>\n",
       "      <td>0.74</td>\n",
       "    </tr>\n",
       "    <tr>\n",
       "      <th>2</th>\n",
       "      <td>1959.0</td>\n",
       "      <td>3.0</td>\n",
       "      <td>2775.488</td>\n",
       "      <td>1751.8</td>\n",
       "      <td>289.226</td>\n",
       "      <td>491.260</td>\n",
       "      <td>1916.4</td>\n",
       "      <td>29.35</td>\n",
       "      <td>140.5</td>\n",
       "      <td>3.82</td>\n",
       "      <td>5.3</td>\n",
       "      <td>178.657</td>\n",
       "      <td>2.74</td>\n",
       "      <td>1.09</td>\n",
       "    </tr>\n",
       "    <tr>\n",
       "      <th>3</th>\n",
       "      <td>1959.0</td>\n",
       "      <td>4.0</td>\n",
       "      <td>2785.204</td>\n",
       "      <td>1753.7</td>\n",
       "      <td>299.356</td>\n",
       "      <td>484.052</td>\n",
       "      <td>1931.3</td>\n",
       "      <td>29.37</td>\n",
       "      <td>140.0</td>\n",
       "      <td>4.33</td>\n",
       "      <td>5.6</td>\n",
       "      <td>179.386</td>\n",
       "      <td>0.27</td>\n",
       "      <td>4.06</td>\n",
       "    </tr>\n",
       "    <tr>\n",
       "      <th>4</th>\n",
       "      <td>1960.0</td>\n",
       "      <td>1.0</td>\n",
       "      <td>2847.699</td>\n",
       "      <td>1770.5</td>\n",
       "      <td>331.722</td>\n",
       "      <td>462.199</td>\n",
       "      <td>1955.5</td>\n",
       "      <td>29.54</td>\n",
       "      <td>139.6</td>\n",
       "      <td>3.50</td>\n",
       "      <td>5.2</td>\n",
       "      <td>180.007</td>\n",
       "      <td>2.31</td>\n",
       "      <td>1.19</td>\n",
       "    </tr>\n",
       "  </tbody>\n",
       "</table>\n",
       "</div>"
      ],
      "text/plain": [
       "     year  quarter   realgdp  realcons  realinv  realgovt  realdpi    cpi  \\\n",
       "0  1959.0      1.0  2710.349    1707.4  286.898   470.045   1886.9  28.98   \n",
       "1  1959.0      2.0  2778.801    1733.7  310.859   481.301   1919.7  29.15   \n",
       "2  1959.0      3.0  2775.488    1751.8  289.226   491.260   1916.4  29.35   \n",
       "3  1959.0      4.0  2785.204    1753.7  299.356   484.052   1931.3  29.37   \n",
       "4  1960.0      1.0  2847.699    1770.5  331.722   462.199   1955.5  29.54   \n",
       "\n",
       "      m1  tbilrate  unemp      pop  infl  realint  \n",
       "0  139.7      2.82    5.8  177.146  0.00     0.00  \n",
       "1  141.7      3.08    5.1  177.830  2.34     0.74  \n",
       "2  140.5      3.82    5.3  178.657  2.74     1.09  \n",
       "3  140.0      4.33    5.6  179.386  0.27     4.06  \n",
       "4  139.6      3.50    5.2  180.007  2.31     1.19  "
      ]
     },
     "execution_count": 234,
     "metadata": {},
     "output_type": "execute_result"
    }
   ],
   "source": [
    "data.head(5)"
   ]
  },
  {
   "cell_type": "code",
   "execution_count": 235,
   "metadata": {},
   "outputs": [
    {
     "data": {
      "text/plain": [
       "0      1959.0\n",
       "1      1959.0\n",
       "2      1959.0\n",
       "3      1959.0\n",
       "4      1960.0\n",
       "5      1960.0\n",
       "6      1960.0\n",
       "7      1960.0\n",
       "8      1961.0\n",
       "9      1961.0\n",
       "10     1961.0\n",
       "11     1961.0\n",
       "12     1962.0\n",
       "13     1962.0\n",
       "14     1962.0\n",
       "15     1962.0\n",
       "16     1963.0\n",
       "17     1963.0\n",
       "18     1963.0\n",
       "19     1963.0\n",
       "20     1964.0\n",
       "21     1964.0\n",
       "22     1964.0\n",
       "23     1964.0\n",
       "24     1965.0\n",
       "25     1965.0\n",
       "26     1965.0\n",
       "27     1965.0\n",
       "28     1966.0\n",
       "29     1966.0\n",
       "        ...  \n",
       "173    2002.0\n",
       "174    2002.0\n",
       "175    2002.0\n",
       "176    2003.0\n",
       "177    2003.0\n",
       "178    2003.0\n",
       "179    2003.0\n",
       "180    2004.0\n",
       "181    2004.0\n",
       "182    2004.0\n",
       "183    2004.0\n",
       "184    2005.0\n",
       "185    2005.0\n",
       "186    2005.0\n",
       "187    2005.0\n",
       "188    2006.0\n",
       "189    2006.0\n",
       "190    2006.0\n",
       "191    2006.0\n",
       "192    2007.0\n",
       "193    2007.0\n",
       "194    2007.0\n",
       "195    2007.0\n",
       "196    2008.0\n",
       "197    2008.0\n",
       "198    2008.0\n",
       "199    2008.0\n",
       "200    2009.0\n",
       "201    2009.0\n",
       "202    2009.0\n",
       "Name: year, Length: 203, dtype: float64"
      ]
     },
     "execution_count": 235,
     "metadata": {},
     "output_type": "execute_result"
    }
   ],
   "source": [
    "data.year"
   ]
  },
  {
   "cell_type": "code",
   "execution_count": 236,
   "metadata": {},
   "outputs": [
    {
     "data": {
      "text/plain": [
       "0      1.0\n",
       "1      2.0\n",
       "2      3.0\n",
       "3      4.0\n",
       "4      1.0\n",
       "5      2.0\n",
       "6      3.0\n",
       "7      4.0\n",
       "8      1.0\n",
       "9      2.0\n",
       "10     3.0\n",
       "11     4.0\n",
       "12     1.0\n",
       "13     2.0\n",
       "14     3.0\n",
       "15     4.0\n",
       "16     1.0\n",
       "17     2.0\n",
       "18     3.0\n",
       "19     4.0\n",
       "20     1.0\n",
       "21     2.0\n",
       "22     3.0\n",
       "23     4.0\n",
       "24     1.0\n",
       "25     2.0\n",
       "26     3.0\n",
       "27     4.0\n",
       "28     1.0\n",
       "29     2.0\n",
       "      ... \n",
       "173    2.0\n",
       "174    3.0\n",
       "175    4.0\n",
       "176    1.0\n",
       "177    2.0\n",
       "178    3.0\n",
       "179    4.0\n",
       "180    1.0\n",
       "181    2.0\n",
       "182    3.0\n",
       "183    4.0\n",
       "184    1.0\n",
       "185    2.0\n",
       "186    3.0\n",
       "187    4.0\n",
       "188    1.0\n",
       "189    2.0\n",
       "190    3.0\n",
       "191    4.0\n",
       "192    1.0\n",
       "193    2.0\n",
       "194    3.0\n",
       "195    4.0\n",
       "196    1.0\n",
       "197    2.0\n",
       "198    3.0\n",
       "199    4.0\n",
       "200    1.0\n",
       "201    2.0\n",
       "202    3.0\n",
       "Name: quarter, Length: 203, dtype: float64"
      ]
     },
     "execution_count": 236,
     "metadata": {},
     "output_type": "execute_result"
    }
   ],
   "source": [
    "data.quarter"
   ]
  },
  {
   "cell_type": "code",
   "execution_count": 237,
   "metadata": {},
   "outputs": [],
   "source": [
    "index = pd.PeriodIndex(year=data.year, quarter=data.quarter, freq='Q-DEC')"
   ]
  },
  {
   "cell_type": "code",
   "execution_count": 238,
   "metadata": {},
   "outputs": [
    {
     "data": {
      "text/plain": [
       "PeriodIndex(['1959Q1', '1959Q2', '1959Q3', '1959Q4', '1960Q1', '1960Q2',\n",
       "             '1960Q3', '1960Q4', '1961Q1', '1961Q2',\n",
       "             ...\n",
       "             '2007Q2', '2007Q3', '2007Q4', '2008Q1', '2008Q2', '2008Q3',\n",
       "             '2008Q4', '2009Q1', '2009Q2', '2009Q3'],\n",
       "            dtype='period[Q-DEC]', length=203, freq='Q-DEC')"
      ]
     },
     "execution_count": 238,
     "metadata": {},
     "output_type": "execute_result"
    }
   ],
   "source": [
    "index"
   ]
  },
  {
   "cell_type": "code",
   "execution_count": 239,
   "metadata": {},
   "outputs": [],
   "source": [
    "data.index = index"
   ]
  },
  {
   "cell_type": "code",
   "execution_count": 240,
   "metadata": {},
   "outputs": [
    {
     "data": {
      "text/plain": [
       "1959Q1    0.00\n",
       "1959Q2    2.34\n",
       "1959Q3    2.74\n",
       "1959Q4    0.27\n",
       "1960Q1    2.31\n",
       "1960Q2    0.14\n",
       "1960Q3    2.70\n",
       "1960Q4    1.21\n",
       "1961Q1   -0.40\n",
       "1961Q2    1.47\n",
       "1961Q3    0.80\n",
       "1961Q4    0.80\n",
       "1962Q1    2.26\n",
       "1962Q2    0.13\n",
       "1962Q3    2.11\n",
       "1962Q4    0.79\n",
       "1963Q1    0.53\n",
       "1963Q2    2.75\n",
       "1963Q3    0.78\n",
       "1963Q4    2.46\n",
       "1964Q1    0.13\n",
       "1964Q2    0.90\n",
       "1964Q3    1.29\n",
       "1964Q4    2.05\n",
       "1965Q1    1.28\n",
       "1965Q2    2.54\n",
       "1965Q3    0.89\n",
       "1965Q4    2.90\n",
       "1966Q1    4.99\n",
       "1966Q2    2.10\n",
       "          ... \n",
       "2002Q2    1.56\n",
       "2002Q3    2.66\n",
       "2002Q4    3.08\n",
       "2003Q1    1.31\n",
       "2003Q2    1.09\n",
       "2003Q3    2.60\n",
       "2003Q4    3.02\n",
       "2004Q1    2.35\n",
       "2004Q2    3.61\n",
       "2004Q3    3.58\n",
       "2004Q4    2.09\n",
       "2005Q1    4.15\n",
       "2005Q2    1.85\n",
       "2005Q3    9.14\n",
       "2005Q4    0.40\n",
       "2006Q1    2.60\n",
       "2006Q2    3.97\n",
       "2006Q3   -1.58\n",
       "2006Q4    3.30\n",
       "2007Q1    4.58\n",
       "2007Q2    2.75\n",
       "2007Q3    3.45\n",
       "2007Q4    6.38\n",
       "2008Q1    2.82\n",
       "2008Q2    8.53\n",
       "2008Q3   -3.16\n",
       "2008Q4   -8.79\n",
       "2009Q1    0.94\n",
       "2009Q2    3.37\n",
       "2009Q3    3.56\n",
       "Freq: Q-DEC, Name: infl, Length: 203, dtype: float64"
      ]
     },
     "execution_count": 240,
     "metadata": {},
     "output_type": "execute_result"
    }
   ],
   "source": [
    "data.infl"
   ]
  },
  {
   "cell_type": "code",
   "execution_count": 241,
   "metadata": {},
   "outputs": [],
   "source": [
    "rng = pd.date_range('2000-01-01', periods=100, freq='D')"
   ]
  },
  {
   "cell_type": "code",
   "execution_count": 242,
   "metadata": {},
   "outputs": [
    {
     "data": {
      "text/plain": [
       "DatetimeIndex(['2000-01-01', '2000-01-02', '2000-01-03', '2000-01-04',\n",
       "               '2000-01-05', '2000-01-06', '2000-01-07', '2000-01-08',\n",
       "               '2000-01-09', '2000-01-10', '2000-01-11', '2000-01-12',\n",
       "               '2000-01-13', '2000-01-14', '2000-01-15', '2000-01-16',\n",
       "               '2000-01-17', '2000-01-18', '2000-01-19', '2000-01-20',\n",
       "               '2000-01-21', '2000-01-22', '2000-01-23', '2000-01-24',\n",
       "               '2000-01-25', '2000-01-26', '2000-01-27', '2000-01-28',\n",
       "               '2000-01-29', '2000-01-30', '2000-01-31', '2000-02-01',\n",
       "               '2000-02-02', '2000-02-03', '2000-02-04', '2000-02-05',\n",
       "               '2000-02-06', '2000-02-07', '2000-02-08', '2000-02-09',\n",
       "               '2000-02-10', '2000-02-11', '2000-02-12', '2000-02-13',\n",
       "               '2000-02-14', '2000-02-15', '2000-02-16', '2000-02-17',\n",
       "               '2000-02-18', '2000-02-19', '2000-02-20', '2000-02-21',\n",
       "               '2000-02-22', '2000-02-23', '2000-02-24', '2000-02-25',\n",
       "               '2000-02-26', '2000-02-27', '2000-02-28', '2000-02-29',\n",
       "               '2000-03-01', '2000-03-02', '2000-03-03', '2000-03-04',\n",
       "               '2000-03-05', '2000-03-06', '2000-03-07', '2000-03-08',\n",
       "               '2000-03-09', '2000-03-10', '2000-03-11', '2000-03-12',\n",
       "               '2000-03-13', '2000-03-14', '2000-03-15', '2000-03-16',\n",
       "               '2000-03-17', '2000-03-18', '2000-03-19', '2000-03-20',\n",
       "               '2000-03-21', '2000-03-22', '2000-03-23', '2000-03-24',\n",
       "               '2000-03-25', '2000-03-26', '2000-03-27', '2000-03-28',\n",
       "               '2000-03-29', '2000-03-30', '2000-03-31', '2000-04-01',\n",
       "               '2000-04-02', '2000-04-03', '2000-04-04', '2000-04-05',\n",
       "               '2000-04-06', '2000-04-07', '2000-04-08', '2000-04-09'],\n",
       "              dtype='datetime64[ns]', freq='D')"
      ]
     },
     "execution_count": 242,
     "metadata": {},
     "output_type": "execute_result"
    }
   ],
   "source": [
    "rng"
   ]
  },
  {
   "cell_type": "code",
   "execution_count": 243,
   "metadata": {},
   "outputs": [],
   "source": [
    "ts = pd.Series(np.random.randn(len(rng)), index=rng)"
   ]
  },
  {
   "cell_type": "code",
   "execution_count": 244,
   "metadata": {},
   "outputs": [
    {
     "data": {
      "text/plain": [
       "2000-01-01    0.494460\n",
       "2000-01-02    0.095080\n",
       "2000-01-03   -0.497858\n",
       "2000-01-04   -0.966335\n",
       "2000-01-05    0.274022\n",
       "2000-01-06   -0.594675\n",
       "2000-01-07   -0.639572\n",
       "2000-01-08   -0.250217\n",
       "2000-01-09   -1.186324\n",
       "2000-01-10    0.010677\n",
       "2000-01-11   -0.108133\n",
       "2000-01-12    1.893538\n",
       "2000-01-13   -0.500293\n",
       "2000-01-14    1.095162\n",
       "2000-01-15   -0.500027\n",
       "2000-01-16   -1.099847\n",
       "2000-01-17   -0.252706\n",
       "2000-01-18   -0.144791\n",
       "2000-01-19    1.826364\n",
       "2000-01-20   -1.119185\n",
       "2000-01-21    0.225090\n",
       "2000-01-22    1.918658\n",
       "2000-01-23   -0.756617\n",
       "2000-01-24    1.633265\n",
       "2000-01-25    0.448462\n",
       "2000-01-26   -0.116910\n",
       "2000-01-27   -1.666912\n",
       "2000-01-28    0.849567\n",
       "2000-01-29   -0.620578\n",
       "2000-01-30    0.894141\n",
       "                ...   \n",
       "2000-03-11    1.149762\n",
       "2000-03-12   -0.096330\n",
       "2000-03-13   -1.273175\n",
       "2000-03-14    0.219390\n",
       "2000-03-15   -1.305203\n",
       "2000-03-16    0.616855\n",
       "2000-03-17    2.445652\n",
       "2000-03-18    0.354578\n",
       "2000-03-19    1.133183\n",
       "2000-03-20   -0.275889\n",
       "2000-03-21   -0.825256\n",
       "2000-03-22   -0.046827\n",
       "2000-03-23   -0.364723\n",
       "2000-03-24   -1.005650\n",
       "2000-03-25    0.346617\n",
       "2000-03-26   -1.510531\n",
       "2000-03-27   -0.921725\n",
       "2000-03-28   -1.898261\n",
       "2000-03-29    0.287304\n",
       "2000-03-30    0.833638\n",
       "2000-03-31   -0.993594\n",
       "2000-04-01    0.994813\n",
       "2000-04-02    0.114036\n",
       "2000-04-03    0.255891\n",
       "2000-04-04    1.118561\n",
       "2000-04-05    0.019335\n",
       "2000-04-06   -0.366562\n",
       "2000-04-07    0.968994\n",
       "2000-04-08   -0.298348\n",
       "2000-04-09    0.573729\n",
       "Freq: D, Length: 100, dtype: float64"
      ]
     },
     "execution_count": 244,
     "metadata": {},
     "output_type": "execute_result"
    }
   ],
   "source": [
    "ts"
   ]
  },
  {
   "cell_type": "code",
   "execution_count": 245,
   "metadata": {},
   "outputs": [
    {
     "data": {
      "text/plain": [
       "2000-01-31   -0.008673\n",
       "2000-02-29    0.202901\n",
       "2000-03-31   -0.269833\n",
       "2000-04-30    0.375605\n",
       "Freq: M, dtype: float64"
      ]
     },
     "execution_count": 245,
     "metadata": {},
     "output_type": "execute_result"
    }
   ],
   "source": [
    "ts.resample('M').mean()"
   ]
  },
  {
   "cell_type": "code",
   "execution_count": 246,
   "metadata": {},
   "outputs": [
    {
     "data": {
      "text/plain": [
       "2000-01   -0.008673\n",
       "2000-02    0.202901\n",
       "2000-03   -0.269833\n",
       "2000-04    0.375605\n",
       "Freq: M, dtype: float64"
      ]
     },
     "execution_count": 246,
     "metadata": {},
     "output_type": "execute_result"
    }
   ],
   "source": [
    "ts.resample('M', kind='period').mean()"
   ]
  },
  {
   "cell_type": "code",
   "execution_count": 247,
   "metadata": {},
   "outputs": [],
   "source": [
    "rng = pd.date_range('2000-01-01', periods=12, freq='T')"
   ]
  },
  {
   "cell_type": "code",
   "execution_count": 248,
   "metadata": {},
   "outputs": [
    {
     "data": {
      "text/plain": [
       "DatetimeIndex(['2000-01-01 00:00:00', '2000-01-01 00:01:00',\n",
       "               '2000-01-01 00:02:00', '2000-01-01 00:03:00',\n",
       "               '2000-01-01 00:04:00', '2000-01-01 00:05:00',\n",
       "               '2000-01-01 00:06:00', '2000-01-01 00:07:00',\n",
       "               '2000-01-01 00:08:00', '2000-01-01 00:09:00',\n",
       "               '2000-01-01 00:10:00', '2000-01-01 00:11:00'],\n",
       "              dtype='datetime64[ns]', freq='T')"
      ]
     },
     "execution_count": 248,
     "metadata": {},
     "output_type": "execute_result"
    }
   ],
   "source": [
    "rng"
   ]
  },
  {
   "cell_type": "code",
   "execution_count": 249,
   "metadata": {},
   "outputs": [],
   "source": [
    "ts = pd.Series(np.arange(12), index=rng)"
   ]
  },
  {
   "cell_type": "code",
   "execution_count": 250,
   "metadata": {},
   "outputs": [
    {
     "data": {
      "text/plain": [
       "2000-01-01 00:00:00     0\n",
       "2000-01-01 00:01:00     1\n",
       "2000-01-01 00:02:00     2\n",
       "2000-01-01 00:03:00     3\n",
       "2000-01-01 00:04:00     4\n",
       "2000-01-01 00:05:00     5\n",
       "2000-01-01 00:06:00     6\n",
       "2000-01-01 00:07:00     7\n",
       "2000-01-01 00:08:00     8\n",
       "2000-01-01 00:09:00     9\n",
       "2000-01-01 00:10:00    10\n",
       "2000-01-01 00:11:00    11\n",
       "Freq: T, dtype: int32"
      ]
     },
     "execution_count": 250,
     "metadata": {},
     "output_type": "execute_result"
    }
   ],
   "source": [
    "ts"
   ]
  },
  {
   "cell_type": "code",
   "execution_count": 254,
   "metadata": {},
   "outputs": [
    {
     "data": {
      "text/plain": [
       "2000-01-01 00:00:00    10\n",
       "2000-01-01 00:05:00    35\n",
       "2000-01-01 00:10:00    21\n",
       "Freq: 5T, dtype: int32"
      ]
     },
     "execution_count": 254,
     "metadata": {},
     "output_type": "execute_result"
    }
   ],
   "source": [
    "ts.resample('5min', closed='left').sum()"
   ]
  },
  {
   "cell_type": "code",
   "execution_count": 255,
   "metadata": {},
   "outputs": [
    {
     "data": {
      "text/plain": [
       "1999-12-31 23:55:00     0\n",
       "2000-01-01 00:00:00    15\n",
       "2000-01-01 00:05:00    40\n",
       "2000-01-01 00:10:00    11\n",
       "Freq: 5T, dtype: int32"
      ]
     },
     "execution_count": 255,
     "metadata": {},
     "output_type": "execute_result"
    }
   ],
   "source": [
    "ts.resample('5min', closed='right').sum()"
   ]
  },
  {
   "cell_type": "code",
   "execution_count": 256,
   "metadata": {},
   "outputs": [
    {
     "data": {
      "text/plain": [
       "2000-01-01 00:00:00     0\n",
       "2000-01-01 00:05:00    15\n",
       "2000-01-01 00:10:00    40\n",
       "2000-01-01 00:15:00    11\n",
       "Freq: 5T, dtype: int32"
      ]
     },
     "execution_count": 256,
     "metadata": {},
     "output_type": "execute_result"
    }
   ],
   "source": [
    "ts.resample('5min', closed='right', label='right').sum()"
   ]
  },
  {
   "cell_type": "code",
   "execution_count": 257,
   "metadata": {},
   "outputs": [
    {
     "data": {
      "text/plain": [
       "1999-12-31 23:59:59     0\n",
       "2000-01-01 00:04:59    15\n",
       "2000-01-01 00:09:59    40\n",
       "2000-01-01 00:14:59    11\n",
       "Freq: 5T, dtype: int32"
      ]
     },
     "execution_count": 257,
     "metadata": {},
     "output_type": "execute_result"
    }
   ],
   "source": [
    "ts.resample('5min', closed='right', label='right', loffset='-1s').sum()"
   ]
  },
  {
   "cell_type": "code",
   "execution_count": 258,
   "metadata": {},
   "outputs": [
    {
     "data": {
      "text/plain": [
       "2000-01-01 00:00:00     0\n",
       "2000-01-01 00:01:00     1\n",
       "2000-01-01 00:02:00     2\n",
       "2000-01-01 00:03:00     3\n",
       "2000-01-01 00:04:00     4\n",
       "2000-01-01 00:05:00     5\n",
       "2000-01-01 00:06:00     6\n",
       "2000-01-01 00:07:00     7\n",
       "2000-01-01 00:08:00     8\n",
       "2000-01-01 00:09:00     9\n",
       "2000-01-01 00:10:00    10\n",
       "2000-01-01 00:11:00    11\n",
       "Freq: T, dtype: int32"
      ]
     },
     "execution_count": 258,
     "metadata": {},
     "output_type": "execute_result"
    }
   ],
   "source": [
    "ts"
   ]
  },
  {
   "cell_type": "code",
   "execution_count": 259,
   "metadata": {},
   "outputs": [
    {
     "data": {
      "text/html": [
       "<div>\n",
       "<style scoped>\n",
       "    .dataframe tbody tr th:only-of-type {\n",
       "        vertical-align: middle;\n",
       "    }\n",
       "\n",
       "    .dataframe tbody tr th {\n",
       "        vertical-align: top;\n",
       "    }\n",
       "\n",
       "    .dataframe thead th {\n",
       "        text-align: right;\n",
       "    }\n",
       "</style>\n",
       "<table border=\"1\" class=\"dataframe\">\n",
       "  <thead>\n",
       "    <tr style=\"text-align: right;\">\n",
       "      <th></th>\n",
       "      <th>open</th>\n",
       "      <th>high</th>\n",
       "      <th>low</th>\n",
       "      <th>close</th>\n",
       "    </tr>\n",
       "  </thead>\n",
       "  <tbody>\n",
       "    <tr>\n",
       "      <th>2000-01-01 00:00:00</th>\n",
       "      <td>0</td>\n",
       "      <td>4</td>\n",
       "      <td>0</td>\n",
       "      <td>4</td>\n",
       "    </tr>\n",
       "    <tr>\n",
       "      <th>2000-01-01 00:05:00</th>\n",
       "      <td>5</td>\n",
       "      <td>9</td>\n",
       "      <td>5</td>\n",
       "      <td>9</td>\n",
       "    </tr>\n",
       "    <tr>\n",
       "      <th>2000-01-01 00:10:00</th>\n",
       "      <td>10</td>\n",
       "      <td>11</td>\n",
       "      <td>10</td>\n",
       "      <td>11</td>\n",
       "    </tr>\n",
       "  </tbody>\n",
       "</table>\n",
       "</div>"
      ],
      "text/plain": [
       "                     open  high  low  close\n",
       "2000-01-01 00:00:00     0     4    0      4\n",
       "2000-01-01 00:05:00     5     9    5      9\n",
       "2000-01-01 00:10:00    10    11   10     11"
      ]
     },
     "execution_count": 259,
     "metadata": {},
     "output_type": "execute_result"
    }
   ],
   "source": [
    "ts.resample('5min').ohlc()"
   ]
  },
  {
   "cell_type": "code",
   "execution_count": 260,
   "metadata": {},
   "outputs": [],
   "source": [
    "frame = pd.DataFrame(np.random.randn(2, 4), \n",
    "                     index=pd.date_range('1/1/2000', periods=2, freq='W-WED'), \n",
    "                     columns=['Colorado', 'Texas', 'New York', 'Ohio'])"
   ]
  },
  {
   "cell_type": "code",
   "execution_count": 261,
   "metadata": {},
   "outputs": [
    {
     "data": {
      "text/html": [
       "<div>\n",
       "<style scoped>\n",
       "    .dataframe tbody tr th:only-of-type {\n",
       "        vertical-align: middle;\n",
       "    }\n",
       "\n",
       "    .dataframe tbody tr th {\n",
       "        vertical-align: top;\n",
       "    }\n",
       "\n",
       "    .dataframe thead th {\n",
       "        text-align: right;\n",
       "    }\n",
       "</style>\n",
       "<table border=\"1\" class=\"dataframe\">\n",
       "  <thead>\n",
       "    <tr style=\"text-align: right;\">\n",
       "      <th></th>\n",
       "      <th>Colorado</th>\n",
       "      <th>Texas</th>\n",
       "      <th>New York</th>\n",
       "      <th>Ohio</th>\n",
       "    </tr>\n",
       "  </thead>\n",
       "  <tbody>\n",
       "    <tr>\n",
       "      <th>2000-01-05</th>\n",
       "      <td>-0.756671</td>\n",
       "      <td>-1.683748</td>\n",
       "      <td>0.737533</td>\n",
       "      <td>-1.209176</td>\n",
       "    </tr>\n",
       "    <tr>\n",
       "      <th>2000-01-12</th>\n",
       "      <td>0.509307</td>\n",
       "      <td>-1.401061</td>\n",
       "      <td>0.770385</td>\n",
       "      <td>-0.947522</td>\n",
       "    </tr>\n",
       "  </tbody>\n",
       "</table>\n",
       "</div>"
      ],
      "text/plain": [
       "            Colorado     Texas  New York      Ohio\n",
       "2000-01-05 -0.756671 -1.683748  0.737533 -1.209176\n",
       "2000-01-12  0.509307 -1.401061  0.770385 -0.947522"
      ]
     },
     "execution_count": 261,
     "metadata": {},
     "output_type": "execute_result"
    }
   ],
   "source": [
    "frame"
   ]
  },
  {
   "cell_type": "code",
   "execution_count": 262,
   "metadata": {},
   "outputs": [],
   "source": [
    "df_daily = frame.resample('D').asfreq()"
   ]
  },
  {
   "cell_type": "code",
   "execution_count": 263,
   "metadata": {},
   "outputs": [
    {
     "data": {
      "text/html": [
       "<div>\n",
       "<style scoped>\n",
       "    .dataframe tbody tr th:only-of-type {\n",
       "        vertical-align: middle;\n",
       "    }\n",
       "\n",
       "    .dataframe tbody tr th {\n",
       "        vertical-align: top;\n",
       "    }\n",
       "\n",
       "    .dataframe thead th {\n",
       "        text-align: right;\n",
       "    }\n",
       "</style>\n",
       "<table border=\"1\" class=\"dataframe\">\n",
       "  <thead>\n",
       "    <tr style=\"text-align: right;\">\n",
       "      <th></th>\n",
       "      <th>Colorado</th>\n",
       "      <th>Texas</th>\n",
       "      <th>New York</th>\n",
       "      <th>Ohio</th>\n",
       "    </tr>\n",
       "  </thead>\n",
       "  <tbody>\n",
       "    <tr>\n",
       "      <th>2000-01-05</th>\n",
       "      <td>-0.756671</td>\n",
       "      <td>-1.683748</td>\n",
       "      <td>0.737533</td>\n",
       "      <td>-1.209176</td>\n",
       "    </tr>\n",
       "    <tr>\n",
       "      <th>2000-01-06</th>\n",
       "      <td>NaN</td>\n",
       "      <td>NaN</td>\n",
       "      <td>NaN</td>\n",
       "      <td>NaN</td>\n",
       "    </tr>\n",
       "    <tr>\n",
       "      <th>2000-01-07</th>\n",
       "      <td>NaN</td>\n",
       "      <td>NaN</td>\n",
       "      <td>NaN</td>\n",
       "      <td>NaN</td>\n",
       "    </tr>\n",
       "    <tr>\n",
       "      <th>2000-01-08</th>\n",
       "      <td>NaN</td>\n",
       "      <td>NaN</td>\n",
       "      <td>NaN</td>\n",
       "      <td>NaN</td>\n",
       "    </tr>\n",
       "    <tr>\n",
       "      <th>2000-01-09</th>\n",
       "      <td>NaN</td>\n",
       "      <td>NaN</td>\n",
       "      <td>NaN</td>\n",
       "      <td>NaN</td>\n",
       "    </tr>\n",
       "    <tr>\n",
       "      <th>2000-01-10</th>\n",
       "      <td>NaN</td>\n",
       "      <td>NaN</td>\n",
       "      <td>NaN</td>\n",
       "      <td>NaN</td>\n",
       "    </tr>\n",
       "    <tr>\n",
       "      <th>2000-01-11</th>\n",
       "      <td>NaN</td>\n",
       "      <td>NaN</td>\n",
       "      <td>NaN</td>\n",
       "      <td>NaN</td>\n",
       "    </tr>\n",
       "    <tr>\n",
       "      <th>2000-01-12</th>\n",
       "      <td>0.509307</td>\n",
       "      <td>-1.401061</td>\n",
       "      <td>0.770385</td>\n",
       "      <td>-0.947522</td>\n",
       "    </tr>\n",
       "  </tbody>\n",
       "</table>\n",
       "</div>"
      ],
      "text/plain": [
       "            Colorado     Texas  New York      Ohio\n",
       "2000-01-05 -0.756671 -1.683748  0.737533 -1.209176\n",
       "2000-01-06       NaN       NaN       NaN       NaN\n",
       "2000-01-07       NaN       NaN       NaN       NaN\n",
       "2000-01-08       NaN       NaN       NaN       NaN\n",
       "2000-01-09       NaN       NaN       NaN       NaN\n",
       "2000-01-10       NaN       NaN       NaN       NaN\n",
       "2000-01-11       NaN       NaN       NaN       NaN\n",
       "2000-01-12  0.509307 -1.401061  0.770385 -0.947522"
      ]
     },
     "execution_count": 263,
     "metadata": {},
     "output_type": "execute_result"
    }
   ],
   "source": [
    "df_daily"
   ]
  },
  {
   "cell_type": "code",
   "execution_count": 264,
   "metadata": {},
   "outputs": [
    {
     "data": {
      "text/html": [
       "<div>\n",
       "<style scoped>\n",
       "    .dataframe tbody tr th:only-of-type {\n",
       "        vertical-align: middle;\n",
       "    }\n",
       "\n",
       "    .dataframe tbody tr th {\n",
       "        vertical-align: top;\n",
       "    }\n",
       "\n",
       "    .dataframe thead th {\n",
       "        text-align: right;\n",
       "    }\n",
       "</style>\n",
       "<table border=\"1\" class=\"dataframe\">\n",
       "  <thead>\n",
       "    <tr style=\"text-align: right;\">\n",
       "      <th></th>\n",
       "      <th>Colorado</th>\n",
       "      <th>Texas</th>\n",
       "      <th>New York</th>\n",
       "      <th>Ohio</th>\n",
       "    </tr>\n",
       "  </thead>\n",
       "  <tbody>\n",
       "    <tr>\n",
       "      <th>2000-01-05</th>\n",
       "      <td>-0.756671</td>\n",
       "      <td>-1.683748</td>\n",
       "      <td>0.737533</td>\n",
       "      <td>-1.209176</td>\n",
       "    </tr>\n",
       "    <tr>\n",
       "      <th>2000-01-06</th>\n",
       "      <td>-0.756671</td>\n",
       "      <td>-1.683748</td>\n",
       "      <td>0.737533</td>\n",
       "      <td>-1.209176</td>\n",
       "    </tr>\n",
       "    <tr>\n",
       "      <th>2000-01-07</th>\n",
       "      <td>-0.756671</td>\n",
       "      <td>-1.683748</td>\n",
       "      <td>0.737533</td>\n",
       "      <td>-1.209176</td>\n",
       "    </tr>\n",
       "    <tr>\n",
       "      <th>2000-01-08</th>\n",
       "      <td>-0.756671</td>\n",
       "      <td>-1.683748</td>\n",
       "      <td>0.737533</td>\n",
       "      <td>-1.209176</td>\n",
       "    </tr>\n",
       "    <tr>\n",
       "      <th>2000-01-09</th>\n",
       "      <td>-0.756671</td>\n",
       "      <td>-1.683748</td>\n",
       "      <td>0.737533</td>\n",
       "      <td>-1.209176</td>\n",
       "    </tr>\n",
       "    <tr>\n",
       "      <th>2000-01-10</th>\n",
       "      <td>-0.756671</td>\n",
       "      <td>-1.683748</td>\n",
       "      <td>0.737533</td>\n",
       "      <td>-1.209176</td>\n",
       "    </tr>\n",
       "    <tr>\n",
       "      <th>2000-01-11</th>\n",
       "      <td>-0.756671</td>\n",
       "      <td>-1.683748</td>\n",
       "      <td>0.737533</td>\n",
       "      <td>-1.209176</td>\n",
       "    </tr>\n",
       "    <tr>\n",
       "      <th>2000-01-12</th>\n",
       "      <td>0.509307</td>\n",
       "      <td>-1.401061</td>\n",
       "      <td>0.770385</td>\n",
       "      <td>-0.947522</td>\n",
       "    </tr>\n",
       "  </tbody>\n",
       "</table>\n",
       "</div>"
      ],
      "text/plain": [
       "            Colorado     Texas  New York      Ohio\n",
       "2000-01-05 -0.756671 -1.683748  0.737533 -1.209176\n",
       "2000-01-06 -0.756671 -1.683748  0.737533 -1.209176\n",
       "2000-01-07 -0.756671 -1.683748  0.737533 -1.209176\n",
       "2000-01-08 -0.756671 -1.683748  0.737533 -1.209176\n",
       "2000-01-09 -0.756671 -1.683748  0.737533 -1.209176\n",
       "2000-01-10 -0.756671 -1.683748  0.737533 -1.209176\n",
       "2000-01-11 -0.756671 -1.683748  0.737533 -1.209176\n",
       "2000-01-12  0.509307 -1.401061  0.770385 -0.947522"
      ]
     },
     "execution_count": 264,
     "metadata": {},
     "output_type": "execute_result"
    }
   ],
   "source": [
    "frame.resample('D').ffill()"
   ]
  },
  {
   "cell_type": "code",
   "execution_count": 265,
   "metadata": {},
   "outputs": [
    {
     "data": {
      "text/html": [
       "<div>\n",
       "<style scoped>\n",
       "    .dataframe tbody tr th:only-of-type {\n",
       "        vertical-align: middle;\n",
       "    }\n",
       "\n",
       "    .dataframe tbody tr th {\n",
       "        vertical-align: top;\n",
       "    }\n",
       "\n",
       "    .dataframe thead th {\n",
       "        text-align: right;\n",
       "    }\n",
       "</style>\n",
       "<table border=\"1\" class=\"dataframe\">\n",
       "  <thead>\n",
       "    <tr style=\"text-align: right;\">\n",
       "      <th></th>\n",
       "      <th>Colorado</th>\n",
       "      <th>Texas</th>\n",
       "      <th>New York</th>\n",
       "      <th>Ohio</th>\n",
       "    </tr>\n",
       "  </thead>\n",
       "  <tbody>\n",
       "    <tr>\n",
       "      <th>2000-01-05</th>\n",
       "      <td>-0.756671</td>\n",
       "      <td>-1.683748</td>\n",
       "      <td>0.737533</td>\n",
       "      <td>-1.209176</td>\n",
       "    </tr>\n",
       "    <tr>\n",
       "      <th>2000-01-06</th>\n",
       "      <td>-0.756671</td>\n",
       "      <td>-1.683748</td>\n",
       "      <td>0.737533</td>\n",
       "      <td>-1.209176</td>\n",
       "    </tr>\n",
       "    <tr>\n",
       "      <th>2000-01-07</th>\n",
       "      <td>-0.756671</td>\n",
       "      <td>-1.683748</td>\n",
       "      <td>0.737533</td>\n",
       "      <td>-1.209176</td>\n",
       "    </tr>\n",
       "    <tr>\n",
       "      <th>2000-01-08</th>\n",
       "      <td>NaN</td>\n",
       "      <td>NaN</td>\n",
       "      <td>NaN</td>\n",
       "      <td>NaN</td>\n",
       "    </tr>\n",
       "    <tr>\n",
       "      <th>2000-01-09</th>\n",
       "      <td>NaN</td>\n",
       "      <td>NaN</td>\n",
       "      <td>NaN</td>\n",
       "      <td>NaN</td>\n",
       "    </tr>\n",
       "    <tr>\n",
       "      <th>2000-01-10</th>\n",
       "      <td>NaN</td>\n",
       "      <td>NaN</td>\n",
       "      <td>NaN</td>\n",
       "      <td>NaN</td>\n",
       "    </tr>\n",
       "    <tr>\n",
       "      <th>2000-01-11</th>\n",
       "      <td>NaN</td>\n",
       "      <td>NaN</td>\n",
       "      <td>NaN</td>\n",
       "      <td>NaN</td>\n",
       "    </tr>\n",
       "    <tr>\n",
       "      <th>2000-01-12</th>\n",
       "      <td>0.509307</td>\n",
       "      <td>-1.401061</td>\n",
       "      <td>0.770385</td>\n",
       "      <td>-0.947522</td>\n",
       "    </tr>\n",
       "  </tbody>\n",
       "</table>\n",
       "</div>"
      ],
      "text/plain": [
       "            Colorado     Texas  New York      Ohio\n",
       "2000-01-05 -0.756671 -1.683748  0.737533 -1.209176\n",
       "2000-01-06 -0.756671 -1.683748  0.737533 -1.209176\n",
       "2000-01-07 -0.756671 -1.683748  0.737533 -1.209176\n",
       "2000-01-08       NaN       NaN       NaN       NaN\n",
       "2000-01-09       NaN       NaN       NaN       NaN\n",
       "2000-01-10       NaN       NaN       NaN       NaN\n",
       "2000-01-11       NaN       NaN       NaN       NaN\n",
       "2000-01-12  0.509307 -1.401061  0.770385 -0.947522"
      ]
     },
     "execution_count": 265,
     "metadata": {},
     "output_type": "execute_result"
    }
   ],
   "source": [
    "frame.resample('D').ffill(limit=2)"
   ]
  },
  {
   "cell_type": "code",
   "execution_count": 266,
   "metadata": {},
   "outputs": [
    {
     "data": {
      "text/html": [
       "<div>\n",
       "<style scoped>\n",
       "    .dataframe tbody tr th:only-of-type {\n",
       "        vertical-align: middle;\n",
       "    }\n",
       "\n",
       "    .dataframe tbody tr th {\n",
       "        vertical-align: top;\n",
       "    }\n",
       "\n",
       "    .dataframe thead th {\n",
       "        text-align: right;\n",
       "    }\n",
       "</style>\n",
       "<table border=\"1\" class=\"dataframe\">\n",
       "  <thead>\n",
       "    <tr style=\"text-align: right;\">\n",
       "      <th></th>\n",
       "      <th>Colorado</th>\n",
       "      <th>Texas</th>\n",
       "      <th>New York</th>\n",
       "      <th>Ohio</th>\n",
       "    </tr>\n",
       "  </thead>\n",
       "  <tbody>\n",
       "    <tr>\n",
       "      <th>2000-01-06</th>\n",
       "      <td>-0.756671</td>\n",
       "      <td>-1.683748</td>\n",
       "      <td>0.737533</td>\n",
       "      <td>-1.209176</td>\n",
       "    </tr>\n",
       "    <tr>\n",
       "      <th>2000-01-13</th>\n",
       "      <td>0.509307</td>\n",
       "      <td>-1.401061</td>\n",
       "      <td>0.770385</td>\n",
       "      <td>-0.947522</td>\n",
       "    </tr>\n",
       "  </tbody>\n",
       "</table>\n",
       "</div>"
      ],
      "text/plain": [
       "            Colorado     Texas  New York      Ohio\n",
       "2000-01-06 -0.756671 -1.683748  0.737533 -1.209176\n",
       "2000-01-13  0.509307 -1.401061  0.770385 -0.947522"
      ]
     },
     "execution_count": 266,
     "metadata": {},
     "output_type": "execute_result"
    }
   ],
   "source": [
    "frame.resample('W-THU').ffill()"
   ]
  },
  {
   "cell_type": "code",
   "execution_count": 267,
   "metadata": {},
   "outputs": [],
   "source": [
    "frame = pd.DataFrame(np.random.randn(24, 4), \n",
    "                     index=pd.period_range('1-2000', '12-2001',freq='M'), \n",
    "                     columns=['Colorado', 'Texas', 'New York', 'Ohio'])"
   ]
  },
  {
   "cell_type": "code",
   "execution_count": 268,
   "metadata": {},
   "outputs": [
    {
     "data": {
      "text/html": [
       "<div>\n",
       "<style scoped>\n",
       "    .dataframe tbody tr th:only-of-type {\n",
       "        vertical-align: middle;\n",
       "    }\n",
       "\n",
       "    .dataframe tbody tr th {\n",
       "        vertical-align: top;\n",
       "    }\n",
       "\n",
       "    .dataframe thead th {\n",
       "        text-align: right;\n",
       "    }\n",
       "</style>\n",
       "<table border=\"1\" class=\"dataframe\">\n",
       "  <thead>\n",
       "    <tr style=\"text-align: right;\">\n",
       "      <th></th>\n",
       "      <th>Colorado</th>\n",
       "      <th>Texas</th>\n",
       "      <th>New York</th>\n",
       "      <th>Ohio</th>\n",
       "    </tr>\n",
       "  </thead>\n",
       "  <tbody>\n",
       "    <tr>\n",
       "      <th>2000-01</th>\n",
       "      <td>-0.246118</td>\n",
       "      <td>1.581436</td>\n",
       "      <td>0.323812</td>\n",
       "      <td>-0.012591</td>\n",
       "    </tr>\n",
       "    <tr>\n",
       "      <th>2000-02</th>\n",
       "      <td>-0.684478</td>\n",
       "      <td>0.274061</td>\n",
       "      <td>0.560759</td>\n",
       "      <td>0.257509</td>\n",
       "    </tr>\n",
       "    <tr>\n",
       "      <th>2000-03</th>\n",
       "      <td>-0.591479</td>\n",
       "      <td>1.091005</td>\n",
       "      <td>-1.063739</td>\n",
       "      <td>0.731714</td>\n",
       "    </tr>\n",
       "    <tr>\n",
       "      <th>2000-04</th>\n",
       "      <td>-0.318444</td>\n",
       "      <td>-1.113486</td>\n",
       "      <td>-0.245101</td>\n",
       "      <td>0.200981</td>\n",
       "    </tr>\n",
       "    <tr>\n",
       "      <th>2000-05</th>\n",
       "      <td>0.497448</td>\n",
       "      <td>0.250657</td>\n",
       "      <td>0.113413</td>\n",
       "      <td>-1.528607</td>\n",
       "    </tr>\n",
       "  </tbody>\n",
       "</table>\n",
       "</div>"
      ],
      "text/plain": [
       "         Colorado     Texas  New York      Ohio\n",
       "2000-01 -0.246118  1.581436  0.323812 -0.012591\n",
       "2000-02 -0.684478  0.274061  0.560759  0.257509\n",
       "2000-03 -0.591479  1.091005 -1.063739  0.731714\n",
       "2000-04 -0.318444 -1.113486 -0.245101  0.200981\n",
       "2000-05  0.497448  0.250657  0.113413 -1.528607"
      ]
     },
     "execution_count": 268,
     "metadata": {},
     "output_type": "execute_result"
    }
   ],
   "source": [
    "frame[:5]"
   ]
  },
  {
   "cell_type": "code",
   "execution_count": 269,
   "metadata": {},
   "outputs": [],
   "source": [
    "annual_frame = frame.resample('A-DEC').mean()"
   ]
  },
  {
   "cell_type": "code",
   "execution_count": 270,
   "metadata": {},
   "outputs": [
    {
     "data": {
      "text/html": [
       "<div>\n",
       "<style scoped>\n",
       "    .dataframe tbody tr th:only-of-type {\n",
       "        vertical-align: middle;\n",
       "    }\n",
       "\n",
       "    .dataframe tbody tr th {\n",
       "        vertical-align: top;\n",
       "    }\n",
       "\n",
       "    .dataframe thead th {\n",
       "        text-align: right;\n",
       "    }\n",
       "</style>\n",
       "<table border=\"1\" class=\"dataframe\">\n",
       "  <thead>\n",
       "    <tr style=\"text-align: right;\">\n",
       "      <th></th>\n",
       "      <th>Colorado</th>\n",
       "      <th>Texas</th>\n",
       "      <th>New York</th>\n",
       "      <th>Ohio</th>\n",
       "    </tr>\n",
       "  </thead>\n",
       "  <tbody>\n",
       "    <tr>\n",
       "      <th>2000</th>\n",
       "      <td>0.066266</td>\n",
       "      <td>0.334608</td>\n",
       "      <td>0.196877</td>\n",
       "      <td>-0.077189</td>\n",
       "    </tr>\n",
       "    <tr>\n",
       "      <th>2001</th>\n",
       "      <td>-0.078238</td>\n",
       "      <td>-0.152652</td>\n",
       "      <td>0.387282</td>\n",
       "      <td>-0.189206</td>\n",
       "    </tr>\n",
       "  </tbody>\n",
       "</table>\n",
       "</div>"
      ],
      "text/plain": [
       "      Colorado     Texas  New York      Ohio\n",
       "2000  0.066266  0.334608  0.196877 -0.077189\n",
       "2001 -0.078238 -0.152652  0.387282 -0.189206"
      ]
     },
     "execution_count": 270,
     "metadata": {},
     "output_type": "execute_result"
    }
   ],
   "source": [
    "annual_frame"
   ]
  },
  {
   "cell_type": "code",
   "execution_count": 271,
   "metadata": {},
   "outputs": [
    {
     "data": {
      "text/html": [
       "<div>\n",
       "<style scoped>\n",
       "    .dataframe tbody tr th:only-of-type {\n",
       "        vertical-align: middle;\n",
       "    }\n",
       "\n",
       "    .dataframe tbody tr th {\n",
       "        vertical-align: top;\n",
       "    }\n",
       "\n",
       "    .dataframe thead th {\n",
       "        text-align: right;\n",
       "    }\n",
       "</style>\n",
       "<table border=\"1\" class=\"dataframe\">\n",
       "  <thead>\n",
       "    <tr style=\"text-align: right;\">\n",
       "      <th></th>\n",
       "      <th>Colorado</th>\n",
       "      <th>Texas</th>\n",
       "      <th>New York</th>\n",
       "      <th>Ohio</th>\n",
       "    </tr>\n",
       "  </thead>\n",
       "  <tbody>\n",
       "    <tr>\n",
       "      <th>2000Q1</th>\n",
       "      <td>0.066266</td>\n",
       "      <td>0.334608</td>\n",
       "      <td>0.196877</td>\n",
       "      <td>-0.077189</td>\n",
       "    </tr>\n",
       "    <tr>\n",
       "      <th>2000Q2</th>\n",
       "      <td>0.066266</td>\n",
       "      <td>0.334608</td>\n",
       "      <td>0.196877</td>\n",
       "      <td>-0.077189</td>\n",
       "    </tr>\n",
       "    <tr>\n",
       "      <th>2000Q3</th>\n",
       "      <td>0.066266</td>\n",
       "      <td>0.334608</td>\n",
       "      <td>0.196877</td>\n",
       "      <td>-0.077189</td>\n",
       "    </tr>\n",
       "    <tr>\n",
       "      <th>2000Q4</th>\n",
       "      <td>0.066266</td>\n",
       "      <td>0.334608</td>\n",
       "      <td>0.196877</td>\n",
       "      <td>-0.077189</td>\n",
       "    </tr>\n",
       "    <tr>\n",
       "      <th>2001Q1</th>\n",
       "      <td>-0.078238</td>\n",
       "      <td>-0.152652</td>\n",
       "      <td>0.387282</td>\n",
       "      <td>-0.189206</td>\n",
       "    </tr>\n",
       "    <tr>\n",
       "      <th>2001Q2</th>\n",
       "      <td>-0.078238</td>\n",
       "      <td>-0.152652</td>\n",
       "      <td>0.387282</td>\n",
       "      <td>-0.189206</td>\n",
       "    </tr>\n",
       "    <tr>\n",
       "      <th>2001Q3</th>\n",
       "      <td>-0.078238</td>\n",
       "      <td>-0.152652</td>\n",
       "      <td>0.387282</td>\n",
       "      <td>-0.189206</td>\n",
       "    </tr>\n",
       "    <tr>\n",
       "      <th>2001Q4</th>\n",
       "      <td>-0.078238</td>\n",
       "      <td>-0.152652</td>\n",
       "      <td>0.387282</td>\n",
       "      <td>-0.189206</td>\n",
       "    </tr>\n",
       "  </tbody>\n",
       "</table>\n",
       "</div>"
      ],
      "text/plain": [
       "        Colorado     Texas  New York      Ohio\n",
       "2000Q1  0.066266  0.334608  0.196877 -0.077189\n",
       "2000Q2  0.066266  0.334608  0.196877 -0.077189\n",
       "2000Q3  0.066266  0.334608  0.196877 -0.077189\n",
       "2000Q4  0.066266  0.334608  0.196877 -0.077189\n",
       "2001Q1 -0.078238 -0.152652  0.387282 -0.189206\n",
       "2001Q2 -0.078238 -0.152652  0.387282 -0.189206\n",
       "2001Q3 -0.078238 -0.152652  0.387282 -0.189206\n",
       "2001Q4 -0.078238 -0.152652  0.387282 -0.189206"
      ]
     },
     "execution_count": 271,
     "metadata": {},
     "output_type": "execute_result"
    }
   ],
   "source": [
    "annual_frame.resample('Q-DEC').ffill()"
   ]
  },
  {
   "cell_type": "code",
   "execution_count": 272,
   "metadata": {},
   "outputs": [
    {
     "data": {
      "text/html": [
       "<div>\n",
       "<style scoped>\n",
       "    .dataframe tbody tr th:only-of-type {\n",
       "        vertical-align: middle;\n",
       "    }\n",
       "\n",
       "    .dataframe tbody tr th {\n",
       "        vertical-align: top;\n",
       "    }\n",
       "\n",
       "    .dataframe thead th {\n",
       "        text-align: right;\n",
       "    }\n",
       "</style>\n",
       "<table border=\"1\" class=\"dataframe\">\n",
       "  <thead>\n",
       "    <tr style=\"text-align: right;\">\n",
       "      <th></th>\n",
       "      <th>Colorado</th>\n",
       "      <th>Texas</th>\n",
       "      <th>New York</th>\n",
       "      <th>Ohio</th>\n",
       "    </tr>\n",
       "  </thead>\n",
       "  <tbody>\n",
       "    <tr>\n",
       "      <th>2000Q4</th>\n",
       "      <td>0.066266</td>\n",
       "      <td>0.334608</td>\n",
       "      <td>0.196877</td>\n",
       "      <td>-0.077189</td>\n",
       "    </tr>\n",
       "    <tr>\n",
       "      <th>2001Q1</th>\n",
       "      <td>0.066266</td>\n",
       "      <td>0.334608</td>\n",
       "      <td>0.196877</td>\n",
       "      <td>-0.077189</td>\n",
       "    </tr>\n",
       "    <tr>\n",
       "      <th>2001Q2</th>\n",
       "      <td>0.066266</td>\n",
       "      <td>0.334608</td>\n",
       "      <td>0.196877</td>\n",
       "      <td>-0.077189</td>\n",
       "    </tr>\n",
       "    <tr>\n",
       "      <th>2001Q3</th>\n",
       "      <td>0.066266</td>\n",
       "      <td>0.334608</td>\n",
       "      <td>0.196877</td>\n",
       "      <td>-0.077189</td>\n",
       "    </tr>\n",
       "    <tr>\n",
       "      <th>2001Q4</th>\n",
       "      <td>-0.078238</td>\n",
       "      <td>-0.152652</td>\n",
       "      <td>0.387282</td>\n",
       "      <td>-0.189206</td>\n",
       "    </tr>\n",
       "  </tbody>\n",
       "</table>\n",
       "</div>"
      ],
      "text/plain": [
       "        Colorado     Texas  New York      Ohio\n",
       "2000Q4  0.066266  0.334608  0.196877 -0.077189\n",
       "2001Q1  0.066266  0.334608  0.196877 -0.077189\n",
       "2001Q2  0.066266  0.334608  0.196877 -0.077189\n",
       "2001Q3  0.066266  0.334608  0.196877 -0.077189\n",
       "2001Q4 -0.078238 -0.152652  0.387282 -0.189206"
      ]
     },
     "execution_count": 272,
     "metadata": {},
     "output_type": "execute_result"
    }
   ],
   "source": [
    "annual_frame.resample('Q-DEC', convention='end').ffill()"
   ]
  },
  {
   "cell_type": "code",
   "execution_count": 273,
   "metadata": {},
   "outputs": [],
   "source": [
    "# 在向下采样中，目标频率必须是原频率的子区间。\n",
    "# 在向上采样中，目标频率必须是原频率的父区间。"
   ]
  },
  {
   "cell_type": "code",
   "execution_count": 274,
   "metadata": {},
   "outputs": [
    {
     "data": {
      "text/html": [
       "<div>\n",
       "<style scoped>\n",
       "    .dataframe tbody tr th:only-of-type {\n",
       "        vertical-align: middle;\n",
       "    }\n",
       "\n",
       "    .dataframe tbody tr th {\n",
       "        vertical-align: top;\n",
       "    }\n",
       "\n",
       "    .dataframe thead th {\n",
       "        text-align: right;\n",
       "    }\n",
       "</style>\n",
       "<table border=\"1\" class=\"dataframe\">\n",
       "  <thead>\n",
       "    <tr style=\"text-align: right;\">\n",
       "      <th></th>\n",
       "      <th>Colorado</th>\n",
       "      <th>Texas</th>\n",
       "      <th>New York</th>\n",
       "      <th>Ohio</th>\n",
       "    </tr>\n",
       "  </thead>\n",
       "  <tbody>\n",
       "    <tr>\n",
       "      <th>2000Q4</th>\n",
       "      <td>0.066266</td>\n",
       "      <td>0.334608</td>\n",
       "      <td>0.196877</td>\n",
       "      <td>-0.077189</td>\n",
       "    </tr>\n",
       "    <tr>\n",
       "      <th>2001Q1</th>\n",
       "      <td>0.066266</td>\n",
       "      <td>0.334608</td>\n",
       "      <td>0.196877</td>\n",
       "      <td>-0.077189</td>\n",
       "    </tr>\n",
       "    <tr>\n",
       "      <th>2001Q2</th>\n",
       "      <td>0.066266</td>\n",
       "      <td>0.334608</td>\n",
       "      <td>0.196877</td>\n",
       "      <td>-0.077189</td>\n",
       "    </tr>\n",
       "    <tr>\n",
       "      <th>2001Q3</th>\n",
       "      <td>0.066266</td>\n",
       "      <td>0.334608</td>\n",
       "      <td>0.196877</td>\n",
       "      <td>-0.077189</td>\n",
       "    </tr>\n",
       "    <tr>\n",
       "      <th>2001Q4</th>\n",
       "      <td>-0.078238</td>\n",
       "      <td>-0.152652</td>\n",
       "      <td>0.387282</td>\n",
       "      <td>-0.189206</td>\n",
       "    </tr>\n",
       "    <tr>\n",
       "      <th>2002Q1</th>\n",
       "      <td>-0.078238</td>\n",
       "      <td>-0.152652</td>\n",
       "      <td>0.387282</td>\n",
       "      <td>-0.189206</td>\n",
       "    </tr>\n",
       "    <tr>\n",
       "      <th>2002Q2</th>\n",
       "      <td>-0.078238</td>\n",
       "      <td>-0.152652</td>\n",
       "      <td>0.387282</td>\n",
       "      <td>-0.189206</td>\n",
       "    </tr>\n",
       "    <tr>\n",
       "      <th>2002Q3</th>\n",
       "      <td>-0.078238</td>\n",
       "      <td>-0.152652</td>\n",
       "      <td>0.387282</td>\n",
       "      <td>-0.189206</td>\n",
       "    </tr>\n",
       "  </tbody>\n",
       "</table>\n",
       "</div>"
      ],
      "text/plain": [
       "        Colorado     Texas  New York      Ohio\n",
       "2000Q4  0.066266  0.334608  0.196877 -0.077189\n",
       "2001Q1  0.066266  0.334608  0.196877 -0.077189\n",
       "2001Q2  0.066266  0.334608  0.196877 -0.077189\n",
       "2001Q3  0.066266  0.334608  0.196877 -0.077189\n",
       "2001Q4 -0.078238 -0.152652  0.387282 -0.189206\n",
       "2002Q1 -0.078238 -0.152652  0.387282 -0.189206\n",
       "2002Q2 -0.078238 -0.152652  0.387282 -0.189206\n",
       "2002Q3 -0.078238 -0.152652  0.387282 -0.189206"
      ]
     },
     "execution_count": 274,
     "metadata": {},
     "output_type": "execute_result"
    }
   ],
   "source": [
    "annual_frame.resample('Q-MAR').ffill()"
   ]
  },
  {
   "cell_type": "code",
   "execution_count": 275,
   "metadata": {},
   "outputs": [],
   "source": [
    "close_px_all = pd.read_csv('examples/stock_px_2.csv', parse_dates=True, index_col=0)"
   ]
  },
  {
   "cell_type": "code",
   "execution_count": 277,
   "metadata": {},
   "outputs": [
    {
     "data": {
      "text/html": [
       "<div>\n",
       "<style scoped>\n",
       "    .dataframe tbody tr th:only-of-type {\n",
       "        vertical-align: middle;\n",
       "    }\n",
       "\n",
       "    .dataframe tbody tr th {\n",
       "        vertical-align: top;\n",
       "    }\n",
       "\n",
       "    .dataframe thead th {\n",
       "        text-align: right;\n",
       "    }\n",
       "</style>\n",
       "<table border=\"1\" class=\"dataframe\">\n",
       "  <thead>\n",
       "    <tr style=\"text-align: right;\">\n",
       "      <th></th>\n",
       "      <th>AAPL</th>\n",
       "      <th>MSFT</th>\n",
       "      <th>XOM</th>\n",
       "      <th>SPX</th>\n",
       "    </tr>\n",
       "  </thead>\n",
       "  <tbody>\n",
       "    <tr>\n",
       "      <th>2003-01-02</th>\n",
       "      <td>7.40</td>\n",
       "      <td>21.11</td>\n",
       "      <td>29.22</td>\n",
       "      <td>909.03</td>\n",
       "    </tr>\n",
       "    <tr>\n",
       "      <th>2003-01-03</th>\n",
       "      <td>7.45</td>\n",
       "      <td>21.14</td>\n",
       "      <td>29.24</td>\n",
       "      <td>908.59</td>\n",
       "    </tr>\n",
       "    <tr>\n",
       "      <th>2003-01-06</th>\n",
       "      <td>7.45</td>\n",
       "      <td>21.52</td>\n",
       "      <td>29.96</td>\n",
       "      <td>929.01</td>\n",
       "    </tr>\n",
       "    <tr>\n",
       "      <th>2003-01-07</th>\n",
       "      <td>7.43</td>\n",
       "      <td>21.93</td>\n",
       "      <td>28.95</td>\n",
       "      <td>922.93</td>\n",
       "    </tr>\n",
       "    <tr>\n",
       "      <th>2003-01-08</th>\n",
       "      <td>7.28</td>\n",
       "      <td>21.31</td>\n",
       "      <td>28.83</td>\n",
       "      <td>909.93</td>\n",
       "    </tr>\n",
       "  </tbody>\n",
       "</table>\n",
       "</div>"
      ],
      "text/plain": [
       "            AAPL   MSFT    XOM     SPX\n",
       "2003-01-02  7.40  21.11  29.22  909.03\n",
       "2003-01-03  7.45  21.14  29.24  908.59\n",
       "2003-01-06  7.45  21.52  29.96  929.01\n",
       "2003-01-07  7.43  21.93  28.95  922.93\n",
       "2003-01-08  7.28  21.31  28.83  909.93"
      ]
     },
     "execution_count": 277,
     "metadata": {},
     "output_type": "execute_result"
    }
   ],
   "source": [
    "close_px_all.head()"
   ]
  },
  {
   "cell_type": "code",
   "execution_count": 278,
   "metadata": {},
   "outputs": [],
   "source": [
    "close_px = close_px_all[['AAPL', 'MSFT', 'XOM']]"
   ]
  },
  {
   "cell_type": "code",
   "execution_count": 280,
   "metadata": {},
   "outputs": [
    {
     "data": {
      "text/html": [
       "<div>\n",
       "<style scoped>\n",
       "    .dataframe tbody tr th:only-of-type {\n",
       "        vertical-align: middle;\n",
       "    }\n",
       "\n",
       "    .dataframe tbody tr th {\n",
       "        vertical-align: top;\n",
       "    }\n",
       "\n",
       "    .dataframe thead th {\n",
       "        text-align: right;\n",
       "    }\n",
       "</style>\n",
       "<table border=\"1\" class=\"dataframe\">\n",
       "  <thead>\n",
       "    <tr style=\"text-align: right;\">\n",
       "      <th></th>\n",
       "      <th>AAPL</th>\n",
       "      <th>MSFT</th>\n",
       "      <th>XOM</th>\n",
       "    </tr>\n",
       "  </thead>\n",
       "  <tbody>\n",
       "    <tr>\n",
       "      <th>2003-01-02</th>\n",
       "      <td>7.40</td>\n",
       "      <td>21.11</td>\n",
       "      <td>29.22</td>\n",
       "    </tr>\n",
       "    <tr>\n",
       "      <th>2003-01-03</th>\n",
       "      <td>7.45</td>\n",
       "      <td>21.14</td>\n",
       "      <td>29.24</td>\n",
       "    </tr>\n",
       "    <tr>\n",
       "      <th>2003-01-06</th>\n",
       "      <td>7.45</td>\n",
       "      <td>21.52</td>\n",
       "      <td>29.96</td>\n",
       "    </tr>\n",
       "    <tr>\n",
       "      <th>2003-01-07</th>\n",
       "      <td>7.43</td>\n",
       "      <td>21.93</td>\n",
       "      <td>28.95</td>\n",
       "    </tr>\n",
       "    <tr>\n",
       "      <th>2003-01-08</th>\n",
       "      <td>7.28</td>\n",
       "      <td>21.31</td>\n",
       "      <td>28.83</td>\n",
       "    </tr>\n",
       "  </tbody>\n",
       "</table>\n",
       "</div>"
      ],
      "text/plain": [
       "            AAPL   MSFT    XOM\n",
       "2003-01-02  7.40  21.11  29.22\n",
       "2003-01-03  7.45  21.14  29.24\n",
       "2003-01-06  7.45  21.52  29.96\n",
       "2003-01-07  7.43  21.93  28.95\n",
       "2003-01-08  7.28  21.31  28.83"
      ]
     },
     "execution_count": 280,
     "metadata": {},
     "output_type": "execute_result"
    }
   ],
   "source": [
    "close_px.head()"
   ]
  },
  {
   "cell_type": "code",
   "execution_count": 281,
   "metadata": {},
   "outputs": [
    {
     "data": {
      "text/plain": [
       "<matplotlib.axes._subplots.AxesSubplot at 0x1c34d370828>"
      ]
     },
     "execution_count": 281,
     "metadata": {},
     "output_type": "execute_result"
    }
   ],
   "source": [
    "close_px.AAPL.plot()"
   ]
  },
  {
   "cell_type": "code",
   "execution_count": 282,
   "metadata": {},
   "outputs": [
    {
     "data": {
      "text/plain": [
       "<matplotlib.axes._subplots.AxesSubplot at 0x1c349d57470>"
      ]
     },
     "execution_count": 282,
     "metadata": {},
     "output_type": "execute_result"
    },
    {
     "data": {
      "image/png": "[encoded data removed]",
      "text/plain": [
       "<Figure size 432x288 with 1 Axes>"
      ]
     },
     "metadata": {
      "needs_background": "light"
     },
     "output_type": "display_data"
    }
   ],
   "source": [
    "close_px.AAPL.rolling(250).mean().plot()"
   ]
  },
  {
   "cell_type": "code",
   "execution_count": 283,
   "metadata": {},
   "outputs": [],
   "source": [
    "appl_std250 = close_px.AAPL.rolling(250, min_periods=10).std()"
   ]
  },
  {
   "cell_type": "code",
   "execution_count": 284,
   "metadata": {},
   "outputs": [
    {
     "data": {
      "text/plain": [
       "2003-01-09         NaN\n",
       "2003-01-10         NaN\n",
       "2003-01-13         NaN\n",
       "2003-01-14         NaN\n",
       "2003-01-15    0.077496\n",
       "2003-01-16    0.074760\n",
       "2003-01-17    0.112368\n",
       "Name: AAPL, dtype: float64"
      ]
     },
     "execution_count": 284,
     "metadata": {},
     "output_type": "execute_result"
    }
   ],
   "source": [
    "appl_std250[5:12]"
   ]
  },
  {
   "cell_type": "code",
   "execution_count": 285,
   "metadata": {},
   "outputs": [
    {
     "data": {
      "text/plain": [
       "<matplotlib.axes._subplots.AxesSubplot at 0x1c34d4a4ef0>"
      ]
     },
     "execution_count": 285,
     "metadata": {},
     "output_type": "execute_result"
    },
    {
     "data": {
      "image/png": "[encoded data removed]",
      "text/plain": [
       "<Figure size 432x288 with 1 Axes>"
      ]
     },
     "metadata": {
      "needs_background": "light"
     },
     "output_type": "display_data"
    }
   ],
   "source": [
    "appl_std250.plot()"
   ]
  },
  {
   "cell_type": "code",
   "execution_count": 286,
   "metadata": {},
   "outputs": [],
   "source": [
    "expanding_mean = appl_std250.expanding().mean()"
   ]
  },
  {
   "cell_type": "code",
   "execution_count": 288,
   "metadata": {},
   "outputs": [
    {
     "data": {
      "text/plain": [
       "2003-01-02   NaN\n",
       "2003-01-03   NaN\n",
       "2003-01-06   NaN\n",
       "2003-01-07   NaN\n",
       "2003-01-08   NaN\n",
       "Name: AAPL, dtype: float64"
      ]
     },
     "execution_count": 288,
     "metadata": {},
     "output_type": "execute_result"
    }
   ],
   "source": [
    "expanding_mean.head()"
   ]
  },
  {
   "cell_type": "code",
   "execution_count": 289,
   "metadata": {},
   "outputs": [
    {
     "data": {
      "text/plain": [
       "<matplotlib.axes._subplots.AxesSubplot at 0x1c34d2b51d0>"
      ]
     },
     "execution_count": 289,
     "metadata": {},
     "output_type": "execute_result"
    },
    {
     "data": {
      "image/png": "[encoded data removed]",
      "text/plain": [
       "<Figure size 432x288 with 1 Axes>"
      ]
     },
     "metadata": {
      "needs_background": "light"
     },
     "output_type": "display_data"
    }
   ],
   "source": [
    "close_px.rolling(60).mean().plot(logy=True)"
   ]
  },
  {
   "cell_type": "code",
   "execution_count": 290,
   "metadata": {},
   "outputs": [
    {
     "data": {
      "text/html": [
       "<div>\n",
       "<style scoped>\n",
       "    .dataframe tbody tr th:only-of-type {\n",
       "        vertical-align: middle;\n",
       "    }\n",
       "\n",
       "    .dataframe tbody tr th {\n",
       "        vertical-align: top;\n",
       "    }\n",
       "\n",
       "    .dataframe thead th {\n",
       "        text-align: right;\n",
       "    }\n",
       "</style>\n",
       "<table border=\"1\" class=\"dataframe\">\n",
       "  <thead>\n",
       "    <tr style=\"text-align: right;\">\n",
       "      <th></th>\n",
       "      <th>AAPL</th>\n",
       "      <th>MSFT</th>\n",
       "      <th>XOM</th>\n",
       "    </tr>\n",
       "  </thead>\n",
       "  <tbody>\n",
       "    <tr>\n",
       "      <th>2003-01-02</th>\n",
       "      <td>7.400000</td>\n",
       "      <td>21.110000</td>\n",
       "      <td>29.220000</td>\n",
       "    </tr>\n",
       "    <tr>\n",
       "      <th>2003-01-03</th>\n",
       "      <td>7.425000</td>\n",
       "      <td>21.125000</td>\n",
       "      <td>29.230000</td>\n",
       "    </tr>\n",
       "    <tr>\n",
       "      <th>2003-01-06</th>\n",
       "      <td>7.433333</td>\n",
       "      <td>21.256667</td>\n",
       "      <td>29.473333</td>\n",
       "    </tr>\n",
       "    <tr>\n",
       "      <th>2003-01-07</th>\n",
       "      <td>7.432500</td>\n",
       "      <td>21.425000</td>\n",
       "      <td>29.342500</td>\n",
       "    </tr>\n",
       "    <tr>\n",
       "      <th>2003-01-08</th>\n",
       "      <td>7.402000</td>\n",
       "      <td>21.402000</td>\n",
       "      <td>29.240000</td>\n",
       "    </tr>\n",
       "    <tr>\n",
       "      <th>2003-01-09</th>\n",
       "      <td>7.391667</td>\n",
       "      <td>21.490000</td>\n",
       "      <td>29.273333</td>\n",
       "    </tr>\n",
       "    <tr>\n",
       "      <th>2003-01-10</th>\n",
       "      <td>7.387143</td>\n",
       "      <td>21.558571</td>\n",
       "      <td>29.238571</td>\n",
       "    </tr>\n",
       "    <tr>\n",
       "      <th>2003-01-13</th>\n",
       "      <td>7.378750</td>\n",
       "      <td>21.633750</td>\n",
       "      <td>29.197500</td>\n",
       "    </tr>\n",
       "    <tr>\n",
       "      <th>2003-01-14</th>\n",
       "      <td>7.370000</td>\n",
       "      <td>21.717778</td>\n",
       "      <td>29.194444</td>\n",
       "    </tr>\n",
       "    <tr>\n",
       "      <th>2003-01-15</th>\n",
       "      <td>7.355000</td>\n",
       "      <td>21.757000</td>\n",
       "      <td>29.152000</td>\n",
       "    </tr>\n",
       "    <tr>\n",
       "      <th>2003-01-16</th>\n",
       "      <td>7.350909</td>\n",
       "      <td>21.756364</td>\n",
       "      <td>29.129091</td>\n",
       "    </tr>\n",
       "    <tr>\n",
       "      <th>2003-01-17</th>\n",
       "      <td>7.325833</td>\n",
       "      <td>21.628333</td>\n",
       "      <td>29.085000</td>\n",
       "    </tr>\n",
       "    <tr>\n",
       "      <th>2003-01-21</th>\n",
       "      <td>7.301538</td>\n",
       "      <td>21.516154</td>\n",
       "      <td>28.996923</td>\n",
       "    </tr>\n",
       "    <tr>\n",
       "      <th>2003-01-22</th>\n",
       "      <td>7.266154</td>\n",
       "      <td>21.433846</td>\n",
       "      <td>28.870769</td>\n",
       "    </tr>\n",
       "    <tr>\n",
       "      <th>2003-01-23</th>\n",
       "      <td>7.238462</td>\n",
       "      <td>21.387692</td>\n",
       "      <td>28.738462</td>\n",
       "    </tr>\n",
       "    <tr>\n",
       "      <th>2003-01-24</th>\n",
       "      <td>7.214286</td>\n",
       "      <td>21.259286</td>\n",
       "      <td>28.609286</td>\n",
       "    </tr>\n",
       "    <tr>\n",
       "      <th>2003-01-27</th>\n",
       "      <td>7.168462</td>\n",
       "      <td>21.038462</td>\n",
       "      <td>28.294615</td>\n",
       "    </tr>\n",
       "    <tr>\n",
       "      <th>2003-01-28</th>\n",
       "      <td>7.169231</td>\n",
       "      <td>20.874615</td>\n",
       "      <td>28.146154</td>\n",
       "    </tr>\n",
       "    <tr>\n",
       "      <th>2003-01-29</th>\n",
       "      <td>7.179231</td>\n",
       "      <td>20.696154</td>\n",
       "      <td>28.026154</td>\n",
       "    </tr>\n",
       "    <tr>\n",
       "      <th>2003-01-30</th>\n",
       "      <td>7.163846</td>\n",
       "      <td>20.463846</td>\n",
       "      <td>27.898462</td>\n",
       "    </tr>\n",
       "    <tr>\n",
       "      <th>2003-01-31</th>\n",
       "      <td>7.165000</td>\n",
       "      <td>20.334286</td>\n",
       "      <td>27.915000</td>\n",
       "    </tr>\n",
       "    <tr>\n",
       "      <th>2003-02-03</th>\n",
       "      <td>7.155385</td>\n",
       "      <td>19.939231</td>\n",
       "      <td>27.788462</td>\n",
       "    </tr>\n",
       "    <tr>\n",
       "      <th>2003-02-04</th>\n",
       "      <td>7.161538</td>\n",
       "      <td>19.668462</td>\n",
       "      <td>27.769231</td>\n",
       "    </tr>\n",
       "    <tr>\n",
       "      <th>2003-02-05</th>\n",
       "      <td>7.154615</td>\n",
       "      <td>19.414615</td>\n",
       "      <td>27.708462</td>\n",
       "    </tr>\n",
       "    <tr>\n",
       "      <th>2003-02-06</th>\n",
       "      <td>7.167692</td>\n",
       "      <td>19.292308</td>\n",
       "      <td>27.652308</td>\n",
       "    </tr>\n",
       "    <tr>\n",
       "      <th>2003-02-07</th>\n",
       "      <td>7.160714</td>\n",
       "      <td>19.221429</td>\n",
       "      <td>27.652857</td>\n",
       "    </tr>\n",
       "    <tr>\n",
       "      <th>2003-02-10</th>\n",
       "      <td>7.172857</td>\n",
       "      <td>19.110714</td>\n",
       "      <td>27.647857</td>\n",
       "    </tr>\n",
       "    <tr>\n",
       "      <th>2003-02-11</th>\n",
       "      <td>7.190000</td>\n",
       "      <td>18.982857</td>\n",
       "      <td>27.654286</td>\n",
       "    </tr>\n",
       "    <tr>\n",
       "      <th>2003-02-12</th>\n",
       "      <td>7.197857</td>\n",
       "      <td>18.819286</td>\n",
       "      <td>27.625714</td>\n",
       "    </tr>\n",
       "    <tr>\n",
       "      <th>2003-02-13</th>\n",
       "      <td>7.224286</td>\n",
       "      <td>18.738571</td>\n",
       "      <td>27.664286</td>\n",
       "    </tr>\n",
       "    <tr>\n",
       "      <th>...</th>\n",
       "      <td>...</td>\n",
       "      <td>...</td>\n",
       "      <td>...</td>\n",
       "    </tr>\n",
       "    <tr>\n",
       "      <th>2011-09-02</th>\n",
       "      <td>376.653333</td>\n",
       "      <td>25.251333</td>\n",
       "      <td>72.810667</td>\n",
       "    </tr>\n",
       "    <tr>\n",
       "      <th>2011-09-06</th>\n",
       "      <td>375.785385</td>\n",
       "      <td>25.256154</td>\n",
       "      <td>72.412308</td>\n",
       "    </tr>\n",
       "    <tr>\n",
       "      <th>2011-09-07</th>\n",
       "      <td>377.160769</td>\n",
       "      <td>25.358462</td>\n",
       "      <td>72.620769</td>\n",
       "    </tr>\n",
       "    <tr>\n",
       "      <th>2011-09-08</th>\n",
       "      <td>379.323077</td>\n",
       "      <td>25.525385</td>\n",
       "      <td>72.853077</td>\n",
       "    </tr>\n",
       "    <tr>\n",
       "      <th>2011-09-09</th>\n",
       "      <td>379.191429</td>\n",
       "      <td>25.540714</td>\n",
       "      <td>72.721429</td>\n",
       "    </tr>\n",
       "    <tr>\n",
       "      <th>2011-09-12</th>\n",
       "      <td>381.429231</td>\n",
       "      <td>25.750769</td>\n",
       "      <td>72.776923</td>\n",
       "    </tr>\n",
       "    <tr>\n",
       "      <th>2011-09-13</th>\n",
       "      <td>382.078462</td>\n",
       "      <td>25.838462</td>\n",
       "      <td>72.631538</td>\n",
       "    </tr>\n",
       "    <tr>\n",
       "      <th>2011-09-14</th>\n",
       "      <td>383.276923</td>\n",
       "      <td>25.986923</td>\n",
       "      <td>72.698462</td>\n",
       "    </tr>\n",
       "    <tr>\n",
       "      <th>2011-09-15</th>\n",
       "      <td>383.998462</td>\n",
       "      <td>26.120769</td>\n",
       "      <td>72.803846</td>\n",
       "    </tr>\n",
       "    <tr>\n",
       "      <th>2011-09-16</th>\n",
       "      <td>385.177143</td>\n",
       "      <td>26.192143</td>\n",
       "      <td>72.928571</td>\n",
       "    </tr>\n",
       "    <tr>\n",
       "      <th>2011-09-19</th>\n",
       "      <td>386.473077</td>\n",
       "      <td>26.294615</td>\n",
       "      <td>72.820769</td>\n",
       "    </tr>\n",
       "    <tr>\n",
       "      <th>2011-09-20</th>\n",
       "      <td>388.674615</td>\n",
       "      <td>26.323846</td>\n",
       "      <td>72.820000</td>\n",
       "    </tr>\n",
       "    <tr>\n",
       "      <th>2011-09-21</th>\n",
       "      <td>391.067692</td>\n",
       "      <td>26.306923</td>\n",
       "      <td>72.703077</td>\n",
       "    </tr>\n",
       "    <tr>\n",
       "      <th>2011-09-22</th>\n",
       "      <td>393.203846</td>\n",
       "      <td>26.250000</td>\n",
       "      <td>72.480000</td>\n",
       "    </tr>\n",
       "    <tr>\n",
       "      <th>2011-09-23</th>\n",
       "      <td>393.996429</td>\n",
       "      <td>26.165000</td>\n",
       "      <td>72.253571</td>\n",
       "    </tr>\n",
       "    <tr>\n",
       "      <th>2011-09-26</th>\n",
       "      <td>395.670000</td>\n",
       "      <td>26.160000</td>\n",
       "      <td>72.294286</td>\n",
       "    </tr>\n",
       "    <tr>\n",
       "      <th>2011-09-27</th>\n",
       "      <td>396.765000</td>\n",
       "      <td>26.136429</td>\n",
       "      <td>72.241429</td>\n",
       "    </tr>\n",
       "    <tr>\n",
       "      <th>2011-09-28</th>\n",
       "      <td>397.684286</td>\n",
       "      <td>26.090714</td>\n",
       "      <td>72.187857</td>\n",
       "    </tr>\n",
       "    <tr>\n",
       "      <th>2011-09-29</th>\n",
       "      <td>398.619286</td>\n",
       "      <td>26.070000</td>\n",
       "      <td>72.392857</td>\n",
       "    </tr>\n",
       "    <tr>\n",
       "      <th>2011-09-30</th>\n",
       "      <td>397.466000</td>\n",
       "      <td>25.991333</td>\n",
       "      <td>72.408667</td>\n",
       "    </tr>\n",
       "    <tr>\n",
       "      <th>2011-10-03</th>\n",
       "      <td>398.002143</td>\n",
       "      <td>25.890714</td>\n",
       "      <td>72.413571</td>\n",
       "    </tr>\n",
       "    <tr>\n",
       "      <th>2011-10-04</th>\n",
       "      <td>396.802143</td>\n",
       "      <td>25.807857</td>\n",
       "      <td>72.427143</td>\n",
       "    </tr>\n",
       "    <tr>\n",
       "      <th>2011-10-05</th>\n",
       "      <td>395.751429</td>\n",
       "      <td>25.729286</td>\n",
       "      <td>72.422857</td>\n",
       "    </tr>\n",
       "    <tr>\n",
       "      <th>2011-10-06</th>\n",
       "      <td>394.099286</td>\n",
       "      <td>25.673571</td>\n",
       "      <td>72.375714</td>\n",
       "    </tr>\n",
       "    <tr>\n",
       "      <th>2011-10-07</th>\n",
       "      <td>392.479333</td>\n",
       "      <td>25.712000</td>\n",
       "      <td>72.454667</td>\n",
       "    </tr>\n",
       "    <tr>\n",
       "      <th>2011-10-10</th>\n",
       "      <td>389.351429</td>\n",
       "      <td>25.602143</td>\n",
       "      <td>72.527857</td>\n",
       "    </tr>\n",
       "    <tr>\n",
       "      <th>2011-10-11</th>\n",
       "      <td>388.505000</td>\n",
       "      <td>25.674286</td>\n",
       "      <td>72.835000</td>\n",
       "    </tr>\n",
       "    <tr>\n",
       "      <th>2011-10-12</th>\n",
       "      <td>388.531429</td>\n",
       "      <td>25.810000</td>\n",
       "      <td>73.400714</td>\n",
       "    </tr>\n",
       "    <tr>\n",
       "      <th>2011-10-13</th>\n",
       "      <td>388.826429</td>\n",
       "      <td>25.961429</td>\n",
       "      <td>73.905000</td>\n",
       "    </tr>\n",
       "    <tr>\n",
       "      <th>2011-10-14</th>\n",
       "      <td>391.038000</td>\n",
       "      <td>26.048667</td>\n",
       "      <td>74.185333</td>\n",
       "    </tr>\n",
       "  </tbody>\n",
       "</table>\n",
       "<p>2214 rows × 3 columns</p>\n",
       "</div>"
      ],
      "text/plain": [
       "                  AAPL       MSFT        XOM\n",
       "2003-01-02    7.400000  21.110000  29.220000\n",
       "2003-01-03    7.425000  21.125000  29.230000\n",
       "2003-01-06    7.433333  21.256667  29.473333\n",
       "2003-01-07    7.432500  21.425000  29.342500\n",
       "2003-01-08    7.402000  21.402000  29.240000\n",
       "2003-01-09    7.391667  21.490000  29.273333\n",
       "2003-01-10    7.387143  21.558571  29.238571\n",
       "2003-01-13    7.378750  21.633750  29.197500\n",
       "2003-01-14    7.370000  21.717778  29.194444\n",
       "2003-01-15    7.355000  21.757000  29.152000\n",
       "2003-01-16    7.350909  21.756364  29.129091\n",
       "2003-01-17    7.325833  21.628333  29.085000\n",
       "2003-01-21    7.301538  21.516154  28.996923\n",
       "2003-01-22    7.266154  21.433846  28.870769\n",
       "2003-01-23    7.238462  21.387692  28.738462\n",
       "2003-01-24    7.214286  21.259286  28.609286\n",
       "2003-01-27    7.168462  21.038462  28.294615\n",
       "2003-01-28    7.169231  20.874615  28.146154\n",
       "2003-01-29    7.179231  20.696154  28.026154\n",
       "2003-01-30    7.163846  20.463846  27.898462\n",
       "2003-01-31    7.165000  20.334286  27.915000\n",
       "2003-02-03    7.155385  19.939231  27.788462\n",
       "2003-02-04    7.161538  19.668462  27.769231\n",
       "2003-02-05    7.154615  19.414615  27.708462\n",
       "2003-02-06    7.167692  19.292308  27.652308\n",
       "2003-02-07    7.160714  19.221429  27.652857\n",
       "2003-02-10    7.172857  19.110714  27.647857\n",
       "2003-02-11    7.190000  18.982857  27.654286\n",
       "2003-02-12    7.197857  18.819286  27.625714\n",
       "2003-02-13    7.224286  18.738571  27.664286\n",
       "...                ...        ...        ...\n",
       "2011-09-02  376.653333  25.251333  72.810667\n",
       "2011-09-06  375.785385  25.256154  72.412308\n",
       "2011-09-07  377.160769  25.358462  72.620769\n",
       "2011-09-08  379.323077  25.525385  72.853077\n",
       "2011-09-09  379.191429  25.540714  72.721429\n",
       "2011-09-12  381.429231  25.750769  72.776923\n",
       "2011-09-13  382.078462  25.838462  72.631538\n",
       "2011-09-14  383.276923  25.986923  72.698462\n",
       "2011-09-15  383.998462  26.120769  72.803846\n",
       "2011-09-16  385.177143  26.192143  72.928571\n",
       "2011-09-19  386.473077  26.294615  72.820769\n",
       "2011-09-20  388.674615  26.323846  72.820000\n",
       "2011-09-21  391.067692  26.306923  72.703077\n",
       "2011-09-22  393.203846  26.250000  72.480000\n",
       "2011-09-23  393.996429  26.165000  72.253571\n",
       "2011-09-26  395.670000  26.160000  72.294286\n",
       "2011-09-27  396.765000  26.136429  72.241429\n",
       "2011-09-28  397.684286  26.090714  72.187857\n",
       "2011-09-29  398.619286  26.070000  72.392857\n",
       "2011-09-30  397.466000  25.991333  72.408667\n",
       "2011-10-03  398.002143  25.890714  72.413571\n",
       "2011-10-04  396.802143  25.807857  72.427143\n",
       "2011-10-05  395.751429  25.729286  72.422857\n",
       "2011-10-06  394.099286  25.673571  72.375714\n",
       "2011-10-07  392.479333  25.712000  72.454667\n",
       "2011-10-10  389.351429  25.602143  72.527857\n",
       "2011-10-11  388.505000  25.674286  72.835000\n",
       "2011-10-12  388.531429  25.810000  73.400714\n",
       "2011-10-13  388.826429  25.961429  73.905000\n",
       "2011-10-14  391.038000  26.048667  74.185333\n",
       "\n",
       "[2214 rows x 3 columns]"
      ]
     },
     "execution_count": 290,
     "metadata": {},
     "output_type": "execute_result"
    }
   ],
   "source": [
    "close_px.rolling('20D').mean()"
   ]
  },
  {
   "cell_type": "code",
   "execution_count": 291,
   "metadata": {},
   "outputs": [],
   "source": [
    "aapl_px = close_px.AAPL['2006':'2007']"
   ]
  },
  {
   "cell_type": "code",
   "execution_count": 293,
   "metadata": {},
   "outputs": [
    {
     "data": {
      "text/plain": [
       "2006-01-03    74.75\n",
       "2006-01-04    74.97\n",
       "2006-01-05    74.38\n",
       "2006-01-06    76.30\n",
       "2006-01-09    76.05\n",
       "Name: AAPL, dtype: float64"
      ]
     },
     "execution_count": 293,
     "metadata": {},
     "output_type": "execute_result"
    }
   ],
   "source": [
    "aapl_px.head()"
   ]
  },
  {
   "cell_type": "code",
   "execution_count": 294,
   "metadata": {},
   "outputs": [],
   "source": [
    "ma60 = aapl_px.rolling(30, min_periods=20).mean()"
   ]
  },
  {
   "cell_type": "code",
   "execution_count": 295,
   "metadata": {},
   "outputs": [
    {
     "data": {
      "text/plain": [
       "2006-01-03           NaN\n",
       "2006-01-04           NaN\n",
       "2006-01-05           NaN\n",
       "2006-01-06           NaN\n",
       "2006-01-09           NaN\n",
       "2006-01-10           NaN\n",
       "2006-01-11           NaN\n",
       "2006-01-12           NaN\n",
       "2006-01-13           NaN\n",
       "2006-01-17           NaN\n",
       "2006-01-18           NaN\n",
       "2006-01-19           NaN\n",
       "2006-01-20           NaN\n",
       "2006-01-23           NaN\n",
       "2006-01-24           NaN\n",
       "2006-01-25           NaN\n",
       "2006-01-26           NaN\n",
       "2006-01-27           NaN\n",
       "2006-01-30           NaN\n",
       "2006-01-31     77.810000\n",
       "2006-02-01     77.696190\n",
       "2006-02-02     77.441818\n",
       "2006-02-03     77.198696\n",
       "2006-02-06     76.786250\n",
       "2006-02-07     76.418800\n",
       "2006-02-08     76.126154\n",
       "2006-02-09     75.712222\n",
       "2006-02-10     75.412143\n",
       "2006-02-13     75.043103\n",
       "2006-02-14     74.796333\n",
       "                 ...    \n",
       "2007-11-16    175.406000\n",
       "2007-11-19    175.274000\n",
       "2007-11-20    175.307000\n",
       "2007-11-21    175.362667\n",
       "2007-11-23    175.673000\n",
       "2007-11-26    175.849333\n",
       "2007-11-27    176.110333\n",
       "2007-11-28    176.465000\n",
       "2007-11-29    176.849667\n",
       "2007-11-30    177.140333\n",
       "2007-12-03    177.421667\n",
       "2007-12-04    177.603333\n",
       "2007-12-05    177.581333\n",
       "2007-12-06    177.715333\n",
       "2007-12-07    178.099333\n",
       "2007-12-10    178.416333\n",
       "2007-12-11    178.531333\n",
       "2007-12-12    178.660000\n",
       "2007-12-13    178.722667\n",
       "2007-12-14    178.821000\n",
       "2007-12-17    178.705333\n",
       "2007-12-18    178.598667\n",
       "2007-12-19    178.309667\n",
       "2007-12-20    178.340000\n",
       "2007-12-21    178.954667\n",
       "2007-12-24    180.069000\n",
       "2007-12-26    181.575333\n",
       "2007-12-27    182.529000\n",
       "2007-12-28    183.653000\n",
       "2007-12-31    184.779000\n",
       "Name: AAPL, Length: 502, dtype: float64"
      ]
     },
     "execution_count": 295,
     "metadata": {},
     "output_type": "execute_result"
    }
   ],
   "source": [
    "ma60"
   ]
  },
  {
   "cell_type": "code",
   "execution_count": 306,
   "metadata": {},
   "outputs": [
    {
     "data": {
      "text/plain": [
       "<matplotlib.legend.Legend at 0x1c34ebf6978>"
      ]
     },
     "execution_count": 306,
     "metadata": {},
     "output_type": "execute_result"
    },
    {
     "data": {
      "image/png": "[encoded data removed]",
      "text/plain": [
       "<Figure size 432x288 with 1 Axes>"
      ]
     },
     "metadata": {
      "needs_background": "light"
     },
     "output_type": "display_data"
    }
   ],
   "source": [
    "ewma60 = aapl_px.ewm(span=30).mean()\n",
    "ma60.plot(style='k--', label='Simple MA')\n",
    "ewma60.plot(style='k-', label='EW MA')\n",
    "import matplotlib.pyplot as plt\n",
    "plt.legend()"
   ]
  },
  {
   "cell_type": "code",
   "execution_count": 307,
   "metadata": {},
   "outputs": [],
   "source": [
    "spx_px = close_px_all['SPX']"
   ]
  },
  {
   "cell_type": "code",
   "execution_count": 311,
   "metadata": {},
   "outputs": [
    {
     "data": {
      "text/plain": [
       "2003-01-02    909.03\n",
       "2003-01-03    908.59\n",
       "2003-01-06    929.01\n",
       "2003-01-07    922.93\n",
       "2003-01-08    909.93\n",
       "Name: SPX, dtype: float64"
      ]
     },
     "execution_count": 311,
     "metadata": {},
     "output_type": "execute_result"
    }
   ],
   "source": [
    "spx_px.head()"
   ]
  },
  {
   "cell_type": "code",
   "execution_count": 309,
   "metadata": {},
   "outputs": [],
   "source": [
    "spx_rets = spx_px.pct_change()"
   ]
  },
  {
   "cell_type": "code",
   "execution_count": 313,
   "metadata": {},
   "outputs": [
    {
     "data": {
      "text/plain": [
       "2003-01-02         NaN\n",
       "2003-01-03   -0.000484\n",
       "2003-01-06    0.022474\n",
       "2003-01-07   -0.006545\n",
       "2003-01-08   -0.014086\n",
       "Name: SPX, dtype: float64"
      ]
     },
     "execution_count": 313,
     "metadata": {},
     "output_type": "execute_result"
    }
   ],
   "source": [
    "spx_rets.head()"
   ]
  },
  {
   "cell_type": "code",
   "execution_count": 314,
   "metadata": {},
   "outputs": [],
   "source": [
    "returns = close_px.pct_change()"
   ]
  },
  {
   "cell_type": "code",
   "execution_count": 315,
   "metadata": {},
   "outputs": [],
   "source": [
    "corr = returns.AAPL.rolling(125, min_periods=100).corr(spx_rets)"
   ]
  },
  {
   "cell_type": "code",
   "execution_count": 316,
   "metadata": {},
   "outputs": [
    {
     "data": {
      "text/plain": [
       "<matplotlib.axes._subplots.AxesSubplot at 0x1c34ee30e10>"
      ]
     },
     "execution_count": 316,
     "metadata": {},
     "output_type": "execute_result"
    },
    {
     "data": {
      "image/png": "[encoded data removed]",
      "text/plain": [
       "<Figure size 432x288 with 1 Axes>"
      ]
     },
     "metadata": {
      "needs_background": "light"
     },
     "output_type": "display_data"
    }
   ],
   "source": [
    "corr.plot()"
   ]
  },
  {
   "cell_type": "code",
   "execution_count": 317,
   "metadata": {},
   "outputs": [],
   "source": [
    "corr = returns.rolling(125, min_periods=100).corr(spx_rets)"
   ]
  },
  {
   "cell_type": "code",
   "execution_count": 318,
   "metadata": {},
   "outputs": [
    {
     "data": {
      "text/plain": [
       "<matplotlib.axes._subplots.AxesSubplot at 0x1c34ee91240>"
      ]
     },
     "execution_count": 318,
     "metadata": {},
     "output_type": "execute_result"
    },
    {
     "data": {
      "image/png": "[encoded data removed]",
      "text/plain": [
       "<Figure size 432x288 with 1 Axes>"
      ]
     },
     "metadata": {
      "needs_background": "light"
     },
     "output_type": "display_data"
    }
   ],
   "source": [
    "corr.plot()"
   ]
  },
  {
   "cell_type": "code",
   "execution_count": 319,
   "metadata": {},
   "outputs": [],
   "source": [
    "from scipy.stats import percentileofscore"
   ]
  },
  {
   "cell_type": "code",
   "execution_count": 320,
   "metadata": {},
   "outputs": [],
   "source": [
    "score_at_2percent = lambda x: percentileofscore(x, 0.02)"
   ]
  },
  {
   "cell_type": "code",
   "execution_count": 321,
   "metadata": {},
   "outputs": [
    {
     "data": {
      "text/plain": [
       "<function __main__.<lambda>(x)>"
      ]
     },
     "execution_count": 321,
     "metadata": {},
     "output_type": "execute_result"
    }
   ],
   "source": [
    "score_at_2percent"
   ]
  },
  {
   "cell_type": "code",
   "execution_count": 322,
   "metadata": {},
   "outputs": [
    {
     "name": "stderr",
     "output_type": "stream",
     "text": [
      "C:\\ProgramData\\Anaconda3\\lib\\site-packages\\ipykernel_launcher.py:1: FutureWarning: Currently, 'apply' passes the values as ndarrays to the applied function. In the future, this will change to passing it as Series objects. You need to specify 'raw=True' to keep the current behaviour, and you can pass 'raw=False' to silence this warning\n",
      "  \"\"\"Entry point for launching an IPython kernel.\n"
     ]
    }
   ],
   "source": [
    "result = returns.AAPL.rolling(250).apply(score_at_2percent)"
   ]
  },
  {
   "cell_type": "code",
   "execution_count": 323,
   "metadata": {},
   "outputs": [
    {
     "data": {
      "text/plain": [
       "<matplotlib.axes._subplots.AxesSubplot at 0x1c34fb82cf8>"
      ]
     },
     "execution_count": 323,
     "metadata": {},
     "output_type": "execute_result"
    },
    {
     "data": {
      "image/png": "[encoded data removed]",
      "text/plain": [
       "<Figure size 432x288 with 1 Axes>"
      ]
     },
     "metadata": {
      "needs_background": "light"
     },
     "output_type": "display_data"
    }
   ],
   "source": [
    "result.plot()"
   ]
  },
  {
   "cell_type": "code",
   "execution_count": null,
   "metadata": {},
   "outputs": [],
   "source": []
  }
 ],
 "metadata": {
  "kernelspec": {
   "display_name": "Python 3",
   "language": "python",
   "name": "python3"
  },
  "language_info": {
   "codemirror_mode": {
    "name": "ipython",
    "version": 3
   },
   "file_extension": ".py",
   "mimetype": "text/x-python",
   "name": "python",
   "nbconvert_exporter": "python",
   "pygments_lexer": "ipython3",
   "version": "3.7.3"
  }
 },
 "nbformat": 4,
 "nbformat_minor": 2
}
